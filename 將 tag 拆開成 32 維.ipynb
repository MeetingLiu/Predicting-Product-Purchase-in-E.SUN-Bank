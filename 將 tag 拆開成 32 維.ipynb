{
 "cells": [
  {
   "cell_type": "markdown",
   "metadata": {},
   "source": [
    "# Base Load"
   ]
  },
  {
   "cell_type": "code",
   "execution_count": 1,
   "metadata": {},
   "outputs": [],
   "source": [
    "import pandas as pd\n",
    "import numpy as np\n",
    "import os\n",
    "import sklearn\n",
    "import seaborn as sns\n",
    "from matplotlib import pyplot as plt\n",
    "%matplotlib inline\n",
    "plt.style.use(\"ggplot\")\n",
    "\n",
    "import dask.dataframe as dd\n",
    "from tqdm import trange\n",
    "import pickle"
   ]
  },
  {
   "cell_type": "markdown",
   "metadata": {},
   "source": [
    "## data 範本"
   ]
  },
  {
   "cell_type": "code",
   "execution_count": 6,
   "metadata": {},
   "outputs": [],
   "source": [
    "df = pd.read_csv(\"./訓練資料集/split_16tag_cnt_amt.csv\")"
   ]
  },
  {
   "cell_type": "code",
   "execution_count": 7,
   "metadata": {},
   "outputs": [
    {
     "data": {
      "text/html": [
       "<div>\n",
       "<style scoped>\n",
       "    .dataframe tbody tr th:only-of-type {\n",
       "        vertical-align: middle;\n",
       "    }\n",
       "\n",
       "    .dataframe tbody tr th {\n",
       "        vertical-align: top;\n",
       "    }\n",
       "\n",
       "    .dataframe thead th {\n",
       "        text-align: right;\n",
       "    }\n",
       "</style>\n",
       "<table border=\"1\" class=\"dataframe\">\n",
       "  <thead>\n",
       "    <tr style=\"text-align: right;\">\n",
       "      <th></th>\n",
       "      <th>chid</th>\n",
       "      <th>txn_amt</th>\n",
       "      <th>txn_cnt</th>\n",
       "      <th>avr_txn_amt</th>\n",
       "      <th>2_cnt</th>\n",
       "      <th>6_cnt</th>\n",
       "      <th>10_cnt</th>\n",
       "      <th>12_cnt</th>\n",
       "      <th>13_cnt</th>\n",
       "      <th>15_cnt</th>\n",
       "      <th>...</th>\n",
       "      <th>18_amt</th>\n",
       "      <th>19_amt</th>\n",
       "      <th>21_amt</th>\n",
       "      <th>22_amt</th>\n",
       "      <th>25_amt</th>\n",
       "      <th>26_amt</th>\n",
       "      <th>36_amt</th>\n",
       "      <th>37_amt</th>\n",
       "      <th>39_amt</th>\n",
       "      <th>48_amt</th>\n",
       "    </tr>\n",
       "  </thead>\n",
       "  <tbody>\n",
       "    <tr>\n",
       "      <th>0</th>\n",
       "      <td>10000000</td>\n",
       "      <td>131047.220026</td>\n",
       "      <td>28.0</td>\n",
       "      <td>4680.257858</td>\n",
       "      <td>0.0</td>\n",
       "      <td>0.0</td>\n",
       "      <td>21.0</td>\n",
       "      <td>6.0</td>\n",
       "      <td>0.0</td>\n",
       "      <td>0.0</td>\n",
       "      <td>...</td>\n",
       "      <td>0.0</td>\n",
       "      <td>0.0</td>\n",
       "      <td>0.000000</td>\n",
       "      <td>0.000000</td>\n",
       "      <td>0.0</td>\n",
       "      <td>0.000000</td>\n",
       "      <td>0.00000</td>\n",
       "      <td>0.000000</td>\n",
       "      <td>0.000000</td>\n",
       "      <td>9156.086033</td>\n",
       "    </tr>\n",
       "    <tr>\n",
       "      <th>1</th>\n",
       "      <td>10000001</td>\n",
       "      <td>258690.163717</td>\n",
       "      <td>66.0</td>\n",
       "      <td>3919.547935</td>\n",
       "      <td>2.0</td>\n",
       "      <td>1.0</td>\n",
       "      <td>1.0</td>\n",
       "      <td>4.0</td>\n",
       "      <td>0.0</td>\n",
       "      <td>6.0</td>\n",
       "      <td>...</td>\n",
       "      <td>0.0</td>\n",
       "      <td>0.0</td>\n",
       "      <td>19190.393873</td>\n",
       "      <td>3945.661088</td>\n",
       "      <td>0.0</td>\n",
       "      <td>25165.702415</td>\n",
       "      <td>7541.67077</td>\n",
       "      <td>34902.117580</td>\n",
       "      <td>32851.123412</td>\n",
       "      <td>52698.024693</td>\n",
       "    </tr>\n",
       "    <tr>\n",
       "      <th>2</th>\n",
       "      <td>10000002</td>\n",
       "      <td>9264.018807</td>\n",
       "      <td>2.0</td>\n",
       "      <td>4632.009403</td>\n",
       "      <td>0.0</td>\n",
       "      <td>0.0</td>\n",
       "      <td>0.0</td>\n",
       "      <td>0.0</td>\n",
       "      <td>0.0</td>\n",
       "      <td>0.0</td>\n",
       "      <td>...</td>\n",
       "      <td>0.0</td>\n",
       "      <td>0.0</td>\n",
       "      <td>0.000000</td>\n",
       "      <td>3571.095195</td>\n",
       "      <td>0.0</td>\n",
       "      <td>0.000000</td>\n",
       "      <td>0.00000</td>\n",
       "      <td>5692.923612</td>\n",
       "      <td>0.000000</td>\n",
       "      <td>0.000000</td>\n",
       "    </tr>\n",
       "  </tbody>\n",
       "</table>\n",
       "<p>3 rows × 36 columns</p>\n",
       "</div>"
      ],
      "text/plain": [
       "       chid        txn_amt  txn_cnt  avr_txn_amt  2_cnt  6_cnt  10_cnt  \\\n",
       "0  10000000  131047.220026     28.0  4680.257858    0.0    0.0    21.0   \n",
       "1  10000001  258690.163717     66.0  3919.547935    2.0    1.0     1.0   \n",
       "2  10000002    9264.018807      2.0  4632.009403    0.0    0.0     0.0   \n",
       "\n",
       "   12_cnt  13_cnt  15_cnt  ...  18_amt  19_amt        21_amt       22_amt  \\\n",
       "0     6.0     0.0     0.0  ...     0.0     0.0      0.000000     0.000000   \n",
       "1     4.0     0.0     6.0  ...     0.0     0.0  19190.393873  3945.661088   \n",
       "2     0.0     0.0     0.0  ...     0.0     0.0      0.000000  3571.095195   \n",
       "\n",
       "   25_amt        26_amt      36_amt        37_amt        39_amt        48_amt  \n",
       "0     0.0      0.000000     0.00000      0.000000      0.000000   9156.086033  \n",
       "1     0.0  25165.702415  7541.67077  34902.117580  32851.123412  52698.024693  \n",
       "2     0.0      0.000000     0.00000   5692.923612      0.000000      0.000000  \n",
       "\n",
       "[3 rows x 36 columns]"
      ]
     },
     "execution_count": 7,
     "metadata": {},
     "output_type": "execute_result"
    }
   ],
   "source": [
    "df.head(3)"
   ]
  },
  {
   "cell_type": "markdown",
   "metadata": {},
   "source": [
    "# 將 tag 拆開成 32 維\n",
    "13 - 24\n",
    "\n",
    "1.　13.14.15　16  \n",
    "2.　15.16.17　18  \n",
    "3.　17.18.19　20  \n",
    "4.　19.20.21　22  \n",
    "5.　21.22.23　24  \n",
    "6.　22.23.24　25 "
   ]
  },
  {
   "cell_type": "markdown",
   "metadata": {},
   "source": [
    "## 拆分資料"
   ]
  },
  {
   "cell_type": "code",
   "execution_count": 45,
   "metadata": {},
   "outputs": [],
   "source": [
    "df = dd.read_parquet(\"./訓練資料集/Cut_for_13dt_24dt\").compute()\n",
    "\n",
    "for i in [22]: #[13, 15, 17, 19, 21]:\n",
    "    df2 = df[['chid', 'dt', 'shop_tag', 'txn_amt', 'txn_cnt']]\n",
    "    df2 = df2[(df2['dt']>=i) & (df2['dt']<i+3)]\n",
    "    df2 = df2.drop(columns=['dt']).groupby(by=['chid', 'shop_tag']).sum()\n",
    "    df2 = df2.reset_index()\n",
    "    df2.to_csv(\"./訓練資料集/model/0103/data/sum_at_{}_{}dt.csv\".format(i, i+2), index=False)"
   ]
  },
  {
   "cell_type": "markdown",
   "metadata": {},
   "source": [
    "## 轉換維度"
   ]
  },
  {
   "cell_type": "code",
   "execution_count": 46,
   "metadata": {},
   "outputs": [],
   "source": [
    "p = 22\n",
    "df = pd.read_csv(\"./訓練資料集/model/0103/data/sum_at_{}_{}dt.csv\".format(p, p+2))"
   ]
  },
  {
   "cell_type": "code",
   "execution_count": 47,
   "metadata": {},
   "outputs": [
    {
     "data": {
      "text/html": [
       "<div>\n",
       "<style scoped>\n",
       "    .dataframe tbody tr th:only-of-type {\n",
       "        vertical-align: middle;\n",
       "    }\n",
       "\n",
       "    .dataframe tbody tr th {\n",
       "        vertical-align: top;\n",
       "    }\n",
       "\n",
       "    .dataframe thead th {\n",
       "        text-align: right;\n",
       "    }\n",
       "</style>\n",
       "<table border=\"1\" class=\"dataframe\">\n",
       "  <thead>\n",
       "    <tr style=\"text-align: right;\">\n",
       "      <th></th>\n",
       "      <th>chid</th>\n",
       "      <th>shop_tag</th>\n",
       "      <th>txn_amt</th>\n",
       "      <th>txn_cnt</th>\n",
       "    </tr>\n",
       "  </thead>\n",
       "  <tbody>\n",
       "    <tr>\n",
       "      <th>0</th>\n",
       "      <td>10000000</td>\n",
       "      <td>10</td>\n",
       "      <td>30947.700963</td>\n",
       "      <td>7.0</td>\n",
       "    </tr>\n",
       "    <tr>\n",
       "      <th>1</th>\n",
       "      <td>10000000</td>\n",
       "      <td>48</td>\n",
       "      <td>9156.086033</td>\n",
       "      <td>1.0</td>\n",
       "    </tr>\n",
       "    <tr>\n",
       "      <th>2</th>\n",
       "      <td>10000001</td>\n",
       "      <td>10</td>\n",
       "      <td>12847.384866</td>\n",
       "      <td>1.0</td>\n",
       "    </tr>\n",
       "  </tbody>\n",
       "</table>\n",
       "</div>"
      ],
      "text/plain": [
       "       chid  shop_tag       txn_amt  txn_cnt\n",
       "0  10000000        10  30947.700963      7.0\n",
       "1  10000000        48   9156.086033      1.0\n",
       "2  10000001        10  12847.384866      1.0"
      ]
     },
     "execution_count": 47,
     "metadata": {},
     "output_type": "execute_result"
    }
   ],
   "source": [
    "df.head(3)"
   ]
  },
  {
   "cell_type": "code",
   "execution_count": 48,
   "metadata": {},
   "outputs": [
    {
     "name": "stderr",
     "output_type": "stream",
     "text": [
      "100%|████████████████████████████████████████████████████████████████| 468793/468793 [23:15<00:00, 335.99it/s]\n"
     ]
    }
   ],
   "source": [
    "chid_ls = np.array(df.chid)\n",
    "unique_id = df.chid.unique()\n",
    "shop_tag_ls = np.array(df.shop_tag)\n",
    "txn_amt_ls = np.array(df.txn_amt)\n",
    "txn_cnt_ls = np.array(df.txn_cnt)\n",
    "data_num = df.chid.nunique()\n",
    "all_tag = np.array([2, 6, 10, 12, 13, 15, 18, 19, 21, 22, 25, 26, 36, 37, 39, 48])\n",
    "all_cnt_amt = [[0 for _ in range(34)] for _ in range(data_num)]\n",
    "\n",
    "for i in trange(data_num):\n",
    "    id_ = unique_id[i]\n",
    "    loc = np.where(chid_ls==id_)[0]\n",
    "    all_cnt_amt[i][0] = id_\n",
    "    for i_loc in loc: \n",
    "        tag_loc = np.where(all_tag==shop_tag_ls[i_loc])[0][0]+1\n",
    "        all_cnt_amt[i][tag_loc] = txn_cnt_ls[i_loc]\n",
    "        all_cnt_amt[i][16+tag_loc] = txn_amt_ls[i_loc]\n",
    "        all_cnt_amt[i][33] = txn_amt_ls[i_loc]"
   ]
  },
  {
   "cell_type": "code",
   "execution_count": 49,
   "metadata": {},
   "outputs": [],
   "source": [
    "b1 = [str(tags)+\"_cnt\" for tags in [2, 6, 10, 12, 13, 15, 18, 19, 21, 22, 25, 26, 36, 37, 39, 48]]\n",
    "b2 = [str(tags)+\"_amt\" for tags in [2, 6, 10, 12, 13, 15, 18, 19, 21, 22, 25, 26, 36, 37, 39, 48]]\n",
    "b = [\"chid\"]\n",
    "b.extend(b1)\n",
    "b.extend(b2)\n",
    "b.extend([\"txn_amt\"])"
   ]
  },
  {
   "cell_type": "code",
   "execution_count": 50,
   "metadata": {
    "scrolled": true
   },
   "outputs": [
    {
     "data": {
      "text/html": [
       "<div>\n",
       "<style scoped>\n",
       "    .dataframe tbody tr th:only-of-type {\n",
       "        vertical-align: middle;\n",
       "    }\n",
       "\n",
       "    .dataframe tbody tr th {\n",
       "        vertical-align: top;\n",
       "    }\n",
       "\n",
       "    .dataframe thead th {\n",
       "        text-align: right;\n",
       "    }\n",
       "</style>\n",
       "<table border=\"1\" class=\"dataframe\">\n",
       "  <thead>\n",
       "    <tr style=\"text-align: right;\">\n",
       "      <th></th>\n",
       "      <th>chid</th>\n",
       "      <th>2_cnt</th>\n",
       "      <th>6_cnt</th>\n",
       "      <th>10_cnt</th>\n",
       "      <th>12_cnt</th>\n",
       "      <th>13_cnt</th>\n",
       "      <th>15_cnt</th>\n",
       "      <th>18_cnt</th>\n",
       "      <th>19_cnt</th>\n",
       "      <th>21_cnt</th>\n",
       "      <th>...</th>\n",
       "      <th>19_amt</th>\n",
       "      <th>21_amt</th>\n",
       "      <th>22_amt</th>\n",
       "      <th>25_amt</th>\n",
       "      <th>26_amt</th>\n",
       "      <th>36_amt</th>\n",
       "      <th>37_amt</th>\n",
       "      <th>39_amt</th>\n",
       "      <th>48_amt</th>\n",
       "      <th>txn_amt</th>\n",
       "    </tr>\n",
       "  </thead>\n",
       "  <tbody>\n",
       "    <tr>\n",
       "      <th>0</th>\n",
       "      <td>10000000</td>\n",
       "      <td>0.0</td>\n",
       "      <td>0.0</td>\n",
       "      <td>7.0</td>\n",
       "      <td>0.0</td>\n",
       "      <td>0.0</td>\n",
       "      <td>0.0</td>\n",
       "      <td>0.0</td>\n",
       "      <td>0.0</td>\n",
       "      <td>0.0</td>\n",
       "      <td>...</td>\n",
       "      <td>0.0</td>\n",
       "      <td>0.000000</td>\n",
       "      <td>0.000000</td>\n",
       "      <td>0.0</td>\n",
       "      <td>0.0</td>\n",
       "      <td>0.000000</td>\n",
       "      <td>0.000000</td>\n",
       "      <td>0.0</td>\n",
       "      <td>9156.086033</td>\n",
       "      <td>9156.086033</td>\n",
       "    </tr>\n",
       "    <tr>\n",
       "      <th>1</th>\n",
       "      <td>10000001</td>\n",
       "      <td>0.0</td>\n",
       "      <td>0.0</td>\n",
       "      <td>1.0</td>\n",
       "      <td>1.0</td>\n",
       "      <td>0.0</td>\n",
       "      <td>0.0</td>\n",
       "      <td>0.0</td>\n",
       "      <td>0.0</td>\n",
       "      <td>1.0</td>\n",
       "      <td>...</td>\n",
       "      <td>0.0</td>\n",
       "      <td>10223.421432</td>\n",
       "      <td>3945.661088</td>\n",
       "      <td>0.0</td>\n",
       "      <td>0.0</td>\n",
       "      <td>0.000000</td>\n",
       "      <td>4435.600493</td>\n",
       "      <td>0.0</td>\n",
       "      <td>16653.390008</td>\n",
       "      <td>16653.390008</td>\n",
       "    </tr>\n",
       "    <tr>\n",
       "      <th>2</th>\n",
       "      <td>10000002</td>\n",
       "      <td>0.0</td>\n",
       "      <td>0.0</td>\n",
       "      <td>0.0</td>\n",
       "      <td>0.0</td>\n",
       "      <td>0.0</td>\n",
       "      <td>0.0</td>\n",
       "      <td>0.0</td>\n",
       "      <td>0.0</td>\n",
       "      <td>0.0</td>\n",
       "      <td>...</td>\n",
       "      <td>0.0</td>\n",
       "      <td>0.000000</td>\n",
       "      <td>3571.095195</td>\n",
       "      <td>0.0</td>\n",
       "      <td>0.0</td>\n",
       "      <td>0.000000</td>\n",
       "      <td>0.000000</td>\n",
       "      <td>0.0</td>\n",
       "      <td>0.000000</td>\n",
       "      <td>3571.095195</td>\n",
       "    </tr>\n",
       "    <tr>\n",
       "      <th>3</th>\n",
       "      <td>10000005</td>\n",
       "      <td>0.0</td>\n",
       "      <td>0.0</td>\n",
       "      <td>0.0</td>\n",
       "      <td>0.0</td>\n",
       "      <td>0.0</td>\n",
       "      <td>0.0</td>\n",
       "      <td>0.0</td>\n",
       "      <td>0.0</td>\n",
       "      <td>0.0</td>\n",
       "      <td>...</td>\n",
       "      <td>0.0</td>\n",
       "      <td>0.000000</td>\n",
       "      <td>0.000000</td>\n",
       "      <td>0.0</td>\n",
       "      <td>0.0</td>\n",
       "      <td>6221.656309</td>\n",
       "      <td>10062.523765</td>\n",
       "      <td>0.0</td>\n",
       "      <td>0.000000</td>\n",
       "      <td>10062.523765</td>\n",
       "    </tr>\n",
       "    <tr>\n",
       "      <th>4</th>\n",
       "      <td>10000006</td>\n",
       "      <td>0.0</td>\n",
       "      <td>0.0</td>\n",
       "      <td>0.0</td>\n",
       "      <td>0.0</td>\n",
       "      <td>0.0</td>\n",
       "      <td>1.0</td>\n",
       "      <td>0.0</td>\n",
       "      <td>0.0</td>\n",
       "      <td>0.0</td>\n",
       "      <td>...</td>\n",
       "      <td>0.0</td>\n",
       "      <td>0.000000</td>\n",
       "      <td>0.000000</td>\n",
       "      <td>0.0</td>\n",
       "      <td>0.0</td>\n",
       "      <td>0.000000</td>\n",
       "      <td>0.000000</td>\n",
       "      <td>0.0</td>\n",
       "      <td>0.000000</td>\n",
       "      <td>9965.795214</td>\n",
       "    </tr>\n",
       "  </tbody>\n",
       "</table>\n",
       "<p>5 rows × 34 columns</p>\n",
       "</div>"
      ],
      "text/plain": [
       "       chid  2_cnt  6_cnt  10_cnt  12_cnt  13_cnt  15_cnt  18_cnt  19_cnt  \\\n",
       "0  10000000    0.0    0.0     7.0     0.0     0.0     0.0     0.0     0.0   \n",
       "1  10000001    0.0    0.0     1.0     1.0     0.0     0.0     0.0     0.0   \n",
       "2  10000002    0.0    0.0     0.0     0.0     0.0     0.0     0.0     0.0   \n",
       "3  10000005    0.0    0.0     0.0     0.0     0.0     0.0     0.0     0.0   \n",
       "4  10000006    0.0    0.0     0.0     0.0     0.0     1.0     0.0     0.0   \n",
       "\n",
       "   21_cnt  ...  19_amt        21_amt       22_amt  25_amt  26_amt  \\\n",
       "0     0.0  ...     0.0      0.000000     0.000000     0.0     0.0   \n",
       "1     1.0  ...     0.0  10223.421432  3945.661088     0.0     0.0   \n",
       "2     0.0  ...     0.0      0.000000  3571.095195     0.0     0.0   \n",
       "3     0.0  ...     0.0      0.000000     0.000000     0.0     0.0   \n",
       "4     0.0  ...     0.0      0.000000     0.000000     0.0     0.0   \n",
       "\n",
       "        36_amt        37_amt  39_amt        48_amt       txn_amt  \n",
       "0     0.000000      0.000000     0.0   9156.086033   9156.086033  \n",
       "1     0.000000   4435.600493     0.0  16653.390008  16653.390008  \n",
       "2     0.000000      0.000000     0.0      0.000000   3571.095195  \n",
       "3  6221.656309  10062.523765     0.0      0.000000  10062.523765  \n",
       "4     0.000000      0.000000     0.0      0.000000   9965.795214  \n",
       "\n",
       "[5 rows x 34 columns]"
      ]
     },
     "execution_count": 50,
     "metadata": {},
     "output_type": "execute_result"
    }
   ],
   "source": [
    "a = pd.DataFrame(all_cnt_amt)\n",
    "a.columns = b\n",
    "a.head()"
   ]
  },
  {
   "cell_type": "code",
   "execution_count": 51,
   "metadata": {},
   "outputs": [],
   "source": [
    "#p = 13\n",
    "a.to_csv(\"./訓練資料集/model/0103/data/traindata_at_{}_{}dt.csv\".format(p, p+2), index=False)"
   ]
  },
  {
   "cell_type": "markdown",
   "metadata": {},
   "source": [
    "# 剩下的東西\n",
    "dt 16"
   ]
  },
  {
   "cell_type": "code",
   "execution_count": 5,
   "metadata": {},
   "outputs": [],
   "source": [
    "df = dd.read_parquet(\"./訓練資料集/Cut_for_13dt_24dt\").compute()\n",
    "df = df[df['dt']==24]\n",
    "#df.to_csv(\"./訓練資料集/cut_by_dt-1/16dt.csv\", index=False)"
   ]
  },
  {
   "cell_type": "code",
   "execution_count": 6,
   "metadata": {},
   "outputs": [],
   "source": [
    "#df = pd.read_csv(\"./訓練資料集/cut_by_dt-1/16dt.csv\")\n",
    "df = df[['chid', 'txn_amt', 'shop_tag']]\n",
    "df = df.groupby(by=['chid', 'shop_tag']).sum()\n",
    "df = df.reset_index().sort_values(by=['chid', 'txn_amt'])"
   ]
  },
  {
   "cell_type": "code",
   "execution_count": 7,
   "metadata": {},
   "outputs": [
    {
     "data": {
      "text/plain": [
       "404447"
      ]
     },
     "execution_count": 7,
     "metadata": {},
     "output_type": "execute_result"
    }
   ],
   "source": [
    "df.chid.nunique()"
   ]
  },
  {
   "cell_type": "code",
   "execution_count": 9,
   "metadata": {
    "scrolled": true
   },
   "outputs": [
    {
     "data": {
      "text/html": [
       "<div>\n",
       "<style scoped>\n",
       "    .dataframe tbody tr th:only-of-type {\n",
       "        vertical-align: middle;\n",
       "    }\n",
       "\n",
       "    .dataframe tbody tr th {\n",
       "        vertical-align: top;\n",
       "    }\n",
       "\n",
       "    .dataframe thead th {\n",
       "        text-align: right;\n",
       "    }\n",
       "</style>\n",
       "<table border=\"1\" class=\"dataframe\">\n",
       "  <thead>\n",
       "    <tr style=\"text-align: right;\">\n",
       "      <th></th>\n",
       "      <th>chid</th>\n",
       "      <th>shop_tag</th>\n",
       "      <th>txn_amt</th>\n",
       "    </tr>\n",
       "  </thead>\n",
       "  <tbody>\n",
       "    <tr>\n",
       "      <th>1</th>\n",
       "      <td>10000000</td>\n",
       "      <td>48</td>\n",
       "      <td>9156.086033</td>\n",
       "    </tr>\n",
       "    <tr>\n",
       "      <th>0</th>\n",
       "      <td>10000000</td>\n",
       "      <td>10</td>\n",
       "      <td>11660.807559</td>\n",
       "    </tr>\n",
       "    <tr>\n",
       "      <th>3</th>\n",
       "      <td>10000001</td>\n",
       "      <td>37</td>\n",
       "      <td>4435.600493</td>\n",
       "    </tr>\n",
       "  </tbody>\n",
       "</table>\n",
       "</div>"
      ],
      "text/plain": [
       "       chid  shop_tag       txn_amt\n",
       "1  10000000        48   9156.086033\n",
       "0  10000000        10  11660.807559\n",
       "3  10000001        37   4435.600493"
      ]
     },
     "execution_count": 9,
     "metadata": {},
     "output_type": "execute_result"
    }
   ],
   "source": [
    "df.head(3)"
   ]
  },
  {
   "cell_type": "code",
   "execution_count": 22,
   "metadata": {},
   "outputs": [
    {
     "name": "stderr",
     "output_type": "stream",
     "text": [
      "100%|████████████████████████████████████████████████████████████████| 366298/366298 [08:18<00:00, 734.58it/s]\n"
     ]
    }
   ],
   "source": [
    "unique_id = df.chid.unique()\n",
    "data_num = len(unique_id)\n",
    "chid_ls = np.array(df.chid)\n",
    "shop_tag_ls = np.array(df.shop_tag)\n",
    "collect = [[0 for _ in range(2)] for _ in range(data_num)]\n",
    "\n",
    "for i in trange(data_num):\n",
    "    id_ = unique_id[i]\n",
    "    loc = np.where(chid_ls==id_)[0]\n",
    "    collect[i][0] = id_\n",
    "    collect[i][1] = shop_tag_ls[loc[-1]]"
   ]
  },
  {
   "cell_type": "code",
   "execution_count": 23,
   "metadata": {},
   "outputs": [],
   "source": [
    "df2 = pd.DataFrame(collect, columns=['chid', 'top1'])\n",
    "#df2.to_csv(\"./訓練資料集/cut_by_dt-1/16dt_top3_tag.csv\", index=False)"
   ]
  },
  {
   "cell_type": "markdown",
   "metadata": {},
   "source": [
    "## 找 Training data 的 y (y_tag)"
   ]
  },
  {
   "cell_type": "code",
   "execution_count": 68,
   "metadata": {},
   "outputs": [],
   "source": [
    "#[15, 17, 19, 21]\n",
    "p = 21\n",
    "df  = pd.read_csv(\"./訓練資料集/model/0103/data/traindata_at_{}_{}dt.csv\".format(p, p+2))\n",
    "df2 = pd.read_csv(\"./訓練資料集/cut_by_dt-1/{}dt_top3_tag.csv\".format(p+3))"
   ]
  },
  {
   "cell_type": "code",
   "execution_count": 69,
   "metadata": {},
   "outputs": [
    {
     "name": "stderr",
     "output_type": "stream",
     "text": [
      "100%|███████████████████████████████████████████████████████████████| 460815/460815 [04:03<00:00, 1890.82it/s]\n"
     ]
    }
   ],
   "source": [
    "unique_id = df.chid.unique()\n",
    "data_num = len(unique_id)\n",
    "chid_ls = np.array(df2.chid)\n",
    "shop_tag_ls = np.array(df2.top1)\n",
    "\n",
    "collect = [0 for _ in range(data_num)]\n",
    "\n",
    "for i in trange(data_num):\n",
    "    id_ = unique_id[i]\n",
    "    if id_ in chid_ls:\n",
    "        loc = np.where(chid_ls==id_)[0]\n",
    "        collect[i] = shop_tag_ls[loc][0]"
   ]
  },
  {
   "cell_type": "code",
   "execution_count": 71,
   "metadata": {},
   "outputs": [],
   "source": [
    "df['y_tag'] = collect\n",
    "df.to_csv(\"./訓練資料集/model/0103/data/traindata_at_{}_{}dt.csv\".format(p, p+2), index=False)"
   ]
  },
  {
   "cell_type": "markdown",
   "metadata": {},
   "source": [
    "# Train 處理"
   ]
  },
  {
   "cell_type": "code",
   "execution_count": 10,
   "metadata": {},
   "outputs": [],
   "source": [
    "train_1 = pd.read_csv(\"./訓練資料集/model/0103/data/traindata_at_13_15dt.csv\")\n",
    "train_2 = pd.read_csv(\"./訓練資料集/model/0103/data/traindata_at_15_17dt.csv\")\n",
    "train_3 = pd.read_csv(\"./訓練資料集/model/0103/data/traindata_at_17_19dt.csv\")\n",
    "train_4 = pd.read_csv(\"./訓練資料集/model/0103/data/traindata_at_19_21dt.csv\")\n",
    "train_5 = pd.read_csv(\"./訓練資料集/model/0103/data/traindata_at_21_23dt.csv\")\n",
    "\n",
    "train_1 = train_1[train_1['y_tag'] > 0]\n",
    "train_2 = train_2[train_2['y_tag'] > 0]\n",
    "train_3 = train_3[train_3['y_tag'] > 0]\n",
    "train_4 = train_4[train_4['y_tag'] > 0]\n",
    "train_5 = train_5[train_5['y_tag'] > 0]\n",
    "\n",
    "df = pd.concat([train_1, train_2, train_3, train_4, train_5]).reset_index(drop=True)\n",
    "#train_1, train_2, train_3, train_4, train_5 = \"\", \"\", \"\", \"\", \"\""
   ]
  },
  {
   "cell_type": "code",
   "execution_count": 13,
   "metadata": {},
   "outputs": [
    {
     "data": {
      "text/plain": [
       "(1853573, 35)"
      ]
     },
     "execution_count": 13,
     "metadata": {},
     "output_type": "execute_result"
    }
   ],
   "source": [
    "df.shape"
   ]
  },
  {
   "cell_type": "code",
   "execution_count": 14,
   "metadata": {},
   "outputs": [
    {
     "data": {
      "text/html": [
       "<div>\n",
       "<style scoped>\n",
       "    .dataframe tbody tr th:only-of-type {\n",
       "        vertical-align: middle;\n",
       "    }\n",
       "\n",
       "    .dataframe tbody tr th {\n",
       "        vertical-align: top;\n",
       "    }\n",
       "\n",
       "    .dataframe thead th {\n",
       "        text-align: right;\n",
       "    }\n",
       "</style>\n",
       "<table border=\"1\" class=\"dataframe\">\n",
       "  <thead>\n",
       "    <tr style=\"text-align: right;\">\n",
       "      <th></th>\n",
       "      <th>chid</th>\n",
       "      <th>2_cnt</th>\n",
       "      <th>6_cnt</th>\n",
       "      <th>10_cnt</th>\n",
       "      <th>12_cnt</th>\n",
       "      <th>13_cnt</th>\n",
       "      <th>15_cnt</th>\n",
       "      <th>18_cnt</th>\n",
       "      <th>19_cnt</th>\n",
       "      <th>21_cnt</th>\n",
       "      <th>...</th>\n",
       "      <th>21_amt</th>\n",
       "      <th>22_amt</th>\n",
       "      <th>25_amt</th>\n",
       "      <th>26_amt</th>\n",
       "      <th>36_amt</th>\n",
       "      <th>37_amt</th>\n",
       "      <th>39_amt</th>\n",
       "      <th>48_amt</th>\n",
       "      <th>txn_amt</th>\n",
       "      <th>y_tag</th>\n",
       "    </tr>\n",
       "  </thead>\n",
       "  <tbody>\n",
       "    <tr>\n",
       "      <th>0</th>\n",
       "      <td>10000000</td>\n",
       "      <td>0.0</td>\n",
       "      <td>0.0</td>\n",
       "      <td>9.0</td>\n",
       "      <td>3.0</td>\n",
       "      <td>0.0</td>\n",
       "      <td>0.0</td>\n",
       "      <td>0.0</td>\n",
       "      <td>0.0</td>\n",
       "      <td>0.0</td>\n",
       "      <td>...</td>\n",
       "      <td>0.0</td>\n",
       "      <td>0.0</td>\n",
       "      <td>0.0</td>\n",
       "      <td>0.0</td>\n",
       "      <td>0.0000</td>\n",
       "      <td>0.000000</td>\n",
       "      <td>0.0</td>\n",
       "      <td>0.0</td>\n",
       "      <td>18814.102542</td>\n",
       "      <td>10</td>\n",
       "    </tr>\n",
       "    <tr>\n",
       "      <th>1</th>\n",
       "      <td>10000001</td>\n",
       "      <td>0.0</td>\n",
       "      <td>1.0</td>\n",
       "      <td>0.0</td>\n",
       "      <td>1.0</td>\n",
       "      <td>0.0</td>\n",
       "      <td>1.0</td>\n",
       "      <td>0.0</td>\n",
       "      <td>0.0</td>\n",
       "      <td>0.0</td>\n",
       "      <td>...</td>\n",
       "      <td>0.0</td>\n",
       "      <td>0.0</td>\n",
       "      <td>0.0</td>\n",
       "      <td>0.0</td>\n",
       "      <td>2136.2535</td>\n",
       "      <td>5972.879875</td>\n",
       "      <td>0.0</td>\n",
       "      <td>0.0</td>\n",
       "      <td>5972.879875</td>\n",
       "      <td>39</td>\n",
       "    </tr>\n",
       "    <tr>\n",
       "      <th>3</th>\n",
       "      <td>10000004</td>\n",
       "      <td>0.0</td>\n",
       "      <td>0.0</td>\n",
       "      <td>0.0</td>\n",
       "      <td>2.0</td>\n",
       "      <td>0.0</td>\n",
       "      <td>0.0</td>\n",
       "      <td>0.0</td>\n",
       "      <td>0.0</td>\n",
       "      <td>0.0</td>\n",
       "      <td>...</td>\n",
       "      <td>0.0</td>\n",
       "      <td>0.0</td>\n",
       "      <td>0.0</td>\n",
       "      <td>0.0</td>\n",
       "      <td>0.0000</td>\n",
       "      <td>0.000000</td>\n",
       "      <td>0.0</td>\n",
       "      <td>0.0</td>\n",
       "      <td>15271.878083</td>\n",
       "      <td>37</td>\n",
       "    </tr>\n",
       "  </tbody>\n",
       "</table>\n",
       "<p>3 rows × 35 columns</p>\n",
       "</div>"
      ],
      "text/plain": [
       "       chid  2_cnt  6_cnt  10_cnt  12_cnt  13_cnt  15_cnt  18_cnt  19_cnt  \\\n",
       "0  10000000    0.0    0.0     9.0     3.0     0.0     0.0     0.0     0.0   \n",
       "1  10000001    0.0    1.0     0.0     1.0     0.0     1.0     0.0     0.0   \n",
       "3  10000004    0.0    0.0     0.0     2.0     0.0     0.0     0.0     0.0   \n",
       "\n",
       "   21_cnt  ...  21_amt  22_amt  25_amt  26_amt     36_amt       37_amt  \\\n",
       "0     0.0  ...     0.0     0.0     0.0     0.0     0.0000     0.000000   \n",
       "1     0.0  ...     0.0     0.0     0.0     0.0  2136.2535  5972.879875   \n",
       "3     0.0  ...     0.0     0.0     0.0     0.0     0.0000     0.000000   \n",
       "\n",
       "   39_amt  48_amt       txn_amt  y_tag  \n",
       "0     0.0     0.0  18814.102542     10  \n",
       "1     0.0     0.0   5972.879875     39  \n",
       "3     0.0     0.0  15271.878083     37  \n",
       "\n",
       "[3 rows x 35 columns]"
      ]
     },
     "execution_count": 14,
     "metadata": {},
     "output_type": "execute_result"
    }
   ],
   "source": [
    "df.head(3)"
   ]
  },
  {
   "cell_type": "code",
   "execution_count": 15,
   "metadata": {},
   "outputs": [
    {
     "data": {
      "text/plain": [
       "16"
      ]
     },
     "execution_count": 15,
     "metadata": {},
     "output_type": "execute_result"
    }
   ],
   "source": [
    "df.y_tag.nunique()"
   ]
  },
  {
   "cell_type": "code",
   "execution_count": 22,
   "metadata": {},
   "outputs": [
    {
     "data": {
      "text/plain": [
       "[2, 6, 10, 12, 13, 15, 18, 19, 21, 22, 25, 26, 36, 37, 39, 48]"
      ]
     },
     "execution_count": 22,
     "metadata": {},
     "output_type": "execute_result"
    }
   ],
   "source": [
    "tag_unique = sorted(list(df.y_tag.unique()))\n",
    "tag_unique"
   ]
  },
  {
   "cell_type": "markdown",
   "metadata": {},
   "source": [
    "# Test 處理"
   ]
  },
  {
   "cell_type": "code",
   "execution_count": 48,
   "metadata": {},
   "outputs": [],
   "source": [
    "test = pd.read_csv(\"./訓練資料集/model/0103/data/traindata_at_22_24dt.csv\")"
   ]
  },
  {
   "cell_type": "code",
   "execution_count": 3,
   "metadata": {},
   "outputs": [],
   "source": [
    "test = test.groupby(by=['chid']).sum()"
   ]
  },
  {
   "cell_type": "code",
   "execution_count": 18,
   "metadata": {},
   "outputs": [
    {
     "data": {
      "text/html": [
       "<div>\n",
       "<style scoped>\n",
       "    .dataframe tbody tr th:only-of-type {\n",
       "        vertical-align: middle;\n",
       "    }\n",
       "\n",
       "    .dataframe tbody tr th {\n",
       "        vertical-align: top;\n",
       "    }\n",
       "\n",
       "    .dataframe thead th {\n",
       "        text-align: right;\n",
       "    }\n",
       "</style>\n",
       "<table border=\"1\" class=\"dataframe\">\n",
       "  <thead>\n",
       "    <tr style=\"text-align: right;\">\n",
       "      <th></th>\n",
       "      <th>chid</th>\n",
       "      <th>2_cnt</th>\n",
       "      <th>6_cnt</th>\n",
       "      <th>10_cnt</th>\n",
       "      <th>12_cnt</th>\n",
       "      <th>13_cnt</th>\n",
       "      <th>15_cnt</th>\n",
       "      <th>18_cnt</th>\n",
       "      <th>19_cnt</th>\n",
       "      <th>21_cnt</th>\n",
       "      <th>...</th>\n",
       "      <th>19_amt</th>\n",
       "      <th>21_amt</th>\n",
       "      <th>22_amt</th>\n",
       "      <th>25_amt</th>\n",
       "      <th>26_amt</th>\n",
       "      <th>36_amt</th>\n",
       "      <th>37_amt</th>\n",
       "      <th>39_amt</th>\n",
       "      <th>48_amt</th>\n",
       "      <th>txn_amt</th>\n",
       "    </tr>\n",
       "  </thead>\n",
       "  <tbody>\n",
       "    <tr>\n",
       "      <th>0</th>\n",
       "      <td>10000000</td>\n",
       "      <td>0.0</td>\n",
       "      <td>0.0</td>\n",
       "      <td>7.0</td>\n",
       "      <td>0.0</td>\n",
       "      <td>0.0</td>\n",
       "      <td>0.0</td>\n",
       "      <td>0.0</td>\n",
       "      <td>0.0</td>\n",
       "      <td>0.0</td>\n",
       "      <td>...</td>\n",
       "      <td>0.0</td>\n",
       "      <td>0.000000</td>\n",
       "      <td>0.000000</td>\n",
       "      <td>0.0</td>\n",
       "      <td>0.0</td>\n",
       "      <td>0.0</td>\n",
       "      <td>0.000000</td>\n",
       "      <td>0.0</td>\n",
       "      <td>9156.086033</td>\n",
       "      <td>9156.086033</td>\n",
       "    </tr>\n",
       "    <tr>\n",
       "      <th>1</th>\n",
       "      <td>10000001</td>\n",
       "      <td>0.0</td>\n",
       "      <td>0.0</td>\n",
       "      <td>1.0</td>\n",
       "      <td>1.0</td>\n",
       "      <td>0.0</td>\n",
       "      <td>0.0</td>\n",
       "      <td>0.0</td>\n",
       "      <td>0.0</td>\n",
       "      <td>1.0</td>\n",
       "      <td>...</td>\n",
       "      <td>0.0</td>\n",
       "      <td>10223.421432</td>\n",
       "      <td>3945.661088</td>\n",
       "      <td>0.0</td>\n",
       "      <td>0.0</td>\n",
       "      <td>0.0</td>\n",
       "      <td>4435.600493</td>\n",
       "      <td>0.0</td>\n",
       "      <td>16653.390008</td>\n",
       "      <td>16653.390008</td>\n",
       "    </tr>\n",
       "    <tr>\n",
       "      <th>2</th>\n",
       "      <td>10000002</td>\n",
       "      <td>0.0</td>\n",
       "      <td>0.0</td>\n",
       "      <td>0.0</td>\n",
       "      <td>0.0</td>\n",
       "      <td>0.0</td>\n",
       "      <td>0.0</td>\n",
       "      <td>0.0</td>\n",
       "      <td>0.0</td>\n",
       "      <td>0.0</td>\n",
       "      <td>...</td>\n",
       "      <td>0.0</td>\n",
       "      <td>0.000000</td>\n",
       "      <td>3571.095195</td>\n",
       "      <td>0.0</td>\n",
       "      <td>0.0</td>\n",
       "      <td>0.0</td>\n",
       "      <td>0.000000</td>\n",
       "      <td>0.0</td>\n",
       "      <td>0.000000</td>\n",
       "      <td>3571.095195</td>\n",
       "    </tr>\n",
       "  </tbody>\n",
       "</table>\n",
       "<p>3 rows × 34 columns</p>\n",
       "</div>"
      ],
      "text/plain": [
       "       chid  2_cnt  6_cnt  10_cnt  12_cnt  13_cnt  15_cnt  18_cnt  19_cnt  \\\n",
       "0  10000000    0.0    0.0     7.0     0.0     0.0     0.0     0.0     0.0   \n",
       "1  10000001    0.0    0.0     1.0     1.0     0.0     0.0     0.0     0.0   \n",
       "2  10000002    0.0    0.0     0.0     0.0     0.0     0.0     0.0     0.0   \n",
       "\n",
       "   21_cnt  ...  19_amt        21_amt       22_amt  25_amt  26_amt  36_amt  \\\n",
       "0     0.0  ...     0.0      0.000000     0.000000     0.0     0.0     0.0   \n",
       "1     1.0  ...     0.0  10223.421432  3945.661088     0.0     0.0     0.0   \n",
       "2     0.0  ...     0.0      0.000000  3571.095195     0.0     0.0     0.0   \n",
       "\n",
       "        37_amt  39_amt        48_amt       txn_amt  \n",
       "0     0.000000     0.0   9156.086033   9156.086033  \n",
       "1  4435.600493     0.0  16653.390008  16653.390008  \n",
       "2     0.000000     0.0      0.000000   3571.095195  \n",
       "\n",
       "[3 rows x 34 columns]"
      ]
     },
     "execution_count": 18,
     "metadata": {},
     "output_type": "execute_result"
    }
   ],
   "source": [
    "test.head(3)"
   ]
  },
  {
   "cell_type": "code",
   "execution_count": 19,
   "metadata": {},
   "outputs": [
    {
     "data": {
      "text/plain": [
       "(468793, 34)"
      ]
     },
     "execution_count": 19,
     "metadata": {},
     "output_type": "execute_result"
    }
   ],
   "source": [
    "test.shape"
   ]
  },
  {
   "cell_type": "code",
   "execution_count": 50,
   "metadata": {},
   "outputs": [
    {
     "data": {
      "text/plain": [
       "31207"
      ]
     },
     "execution_count": 50,
     "metadata": {},
     "output_type": "execute_result"
    }
   ],
   "source": [
    "chid_set = set(range(10000000, 10500000)) - set(test.chid)\n",
    "chid_set = list(chid_set)\n",
    "len(chid_set)"
   ]
  },
  {
   "cell_type": "code",
   "execution_count": 51,
   "metadata": {},
   "outputs": [
    {
     "name": "stderr",
     "output_type": "stream",
     "text": [
      "100%|█████████████████████████████████████████████████████████████████| 31207/31207 [1:21:15<00:00,  6.40it/s]\n"
     ]
    }
   ],
   "source": [
    "new_set = []\n",
    "for i in trange(len(chid_set)):\n",
    "    id_ = chid_set[i]\n",
    "    if id_ in list(train_5.chid):\n",
    "        i_loc = np.where(np.array(train_5.chid)==id_)[0]\n",
    "        test = test.append(train_5.iloc[i_loc, :-1])\n",
    "        \n",
    "    elif id_ in list(train_4.chid):\n",
    "        i_loc = np.where(np.array(train_4.chid)==id_)[0]\n",
    "        test = test.append(train_4.iloc[i_loc, :-1])\n",
    "        \n",
    "    elif id_ in list(train_3.chid):\n",
    "        i_loc = np.where(np.array(train_3.chid)==id_)[0]\n",
    "        test = test.append(train_3.iloc[i_loc, :-1])\n",
    "        \n",
    "    elif id_ in list(train_2.chid):\n",
    "        i_loc = np.where(np.array(train_2.chid)==id_)[0]\n",
    "        test = test.append(train_2.iloc[i_loc, :-1])\n",
    "        \n",
    "    elif id_ in list(train_1.chid):\n",
    "        i_loc = np.where(np.array(train_1.chid)==id_)[0]\n",
    "        test = test.append(train_1.iloc[i_loc, :-1])\n",
    "        \n",
    "    else:\n",
    "        new_set.append(id_)"
   ]
  },
  {
   "cell_type": "code",
   "execution_count": 30,
   "metadata": {},
   "outputs": [
    {
     "data": {
      "text/plain": [
       "(482121, 34)"
      ]
     },
     "execution_count": 30,
     "metadata": {},
     "output_type": "execute_result"
    }
   ],
   "source": [
    "test.shape"
   ]
  },
  {
   "cell_type": "code",
   "execution_count": 66,
   "metadata": {},
   "outputs": [],
   "source": [
    "test.to_csv(\"./訓練資料集/model/0103/data/traindata_at_22_24dt_filled.csv\", index=False)"
   ]
  },
  {
   "cell_type": "markdown",
   "metadata": {},
   "source": [
    "# 模型"
   ]
  },
  {
   "cell_type": "markdown",
   "metadata": {},
   "source": [
    "## 訓練"
   ]
  },
  {
   "cell_type": "code",
   "execution_count": 16,
   "metadata": {},
   "outputs": [],
   "source": [
    "import lightgbm\n",
    "model = lightgbm.LGBMClassifier()"
   ]
  },
  {
   "cell_type": "code",
   "execution_count": 18,
   "metadata": {},
   "outputs": [
    {
     "data": {
      "text/plain": [
       "LGBMClassifier()"
      ]
     },
     "execution_count": 18,
     "metadata": {},
     "output_type": "execute_result"
    }
   ],
   "source": [
    "X = df.drop(columns=['chid', 'y_tag'])\n",
    "y = df['y_tag']\n",
    "model.fit(X, y)"
   ]
  },
  {
   "cell_type": "code",
   "execution_count": 84,
   "metadata": {},
   "outputs": [
    {
     "data": {
      "text/plain": [
       "['./訓練資料集/model/0103/lightgbm_model.pkl']"
      ]
     },
     "execution_count": 84,
     "metadata": {},
     "output_type": "execute_result"
    }
   ],
   "source": [
    "import joblib\n",
    "joblib.dump(model, './訓練資料集/model/0103/lightgbm_model.pkl')"
   ]
  },
  {
   "cell_type": "markdown",
   "metadata": {},
   "source": [
    "## 導入"
   ]
  },
  {
   "cell_type": "code",
   "execution_count": 52,
   "metadata": {},
   "outputs": [],
   "source": [
    "import lightgbm, joblib\n",
    "model = joblib.load('./訓練資料集/model/0103/lightgbm_model.pkl')"
   ]
  },
  {
   "cell_type": "code",
   "execution_count": 53,
   "metadata": {},
   "outputs": [],
   "source": [
    "y_proba = model.predict_proba(test.drop(columns=['chid']))"
   ]
  },
  {
   "cell_type": "code",
   "execution_count": 54,
   "metadata": {
    "scrolled": true
   },
   "outputs": [
    {
     "data": {
      "text/plain": [
       "(495598, 16)"
      ]
     },
     "execution_count": 54,
     "metadata": {},
     "output_type": "execute_result"
    }
   ],
   "source": [
    "y_proba.shape"
   ]
  },
  {
   "cell_type": "code",
   "execution_count": 55,
   "metadata": {},
   "outputs": [
    {
     "name": "stderr",
     "output_type": "stream",
     "text": [
      "100%|█████████████████████████████████████████████████████████████| 495598/495598 [00:03<00:00, 142576.52it/s]\n"
     ]
    }
   ],
   "source": [
    "tag_unique = [2, 6, 10, 12, 13, 15, 18, 19, 21, 22, 25, 26, 36, 37, 39, 48]\n",
    "result = []\n",
    "for i in trange(y_proba.shape[0]):\n",
    "    proba_ls = [(proba, tag) for proba, tag in zip(y_proba[i], tag_unique)]\n",
    "    proba_ls = sorted(proba_ls, reverse=True)\n",
    "    pred_tag_ls = [tag for proba, tag in proba_ls[:3]]\n",
    "    result.append(pred_tag_ls)"
   ]
  },
  {
   "cell_type": "code",
   "execution_count": 56,
   "metadata": {},
   "outputs": [],
   "source": [
    "result = pd.DataFrame(result, columns=['top1', 'top2', 'top3'])\n",
    "result['chid'] = list(test.chid)"
   ]
  },
  {
   "cell_type": "code",
   "execution_count": 57,
   "metadata": {
    "scrolled": true
   },
   "outputs": [
    {
     "data": {
      "text/html": [
       "<div>\n",
       "<style scoped>\n",
       "    .dataframe tbody tr th:only-of-type {\n",
       "        vertical-align: middle;\n",
       "    }\n",
       "\n",
       "    .dataframe tbody tr th {\n",
       "        vertical-align: top;\n",
       "    }\n",
       "\n",
       "    .dataframe thead th {\n",
       "        text-align: right;\n",
       "    }\n",
       "</style>\n",
       "<table border=\"1\" class=\"dataframe\">\n",
       "  <thead>\n",
       "    <tr style=\"text-align: right;\">\n",
       "      <th></th>\n",
       "      <th>top1</th>\n",
       "      <th>top2</th>\n",
       "      <th>top3</th>\n",
       "      <th>chid</th>\n",
       "    </tr>\n",
       "  </thead>\n",
       "  <tbody>\n",
       "    <tr>\n",
       "      <th>0</th>\n",
       "      <td>10</td>\n",
       "      <td>48</td>\n",
       "      <td>37</td>\n",
       "      <td>10000000</td>\n",
       "    </tr>\n",
       "    <tr>\n",
       "      <th>1</th>\n",
       "      <td>48</td>\n",
       "      <td>10</td>\n",
       "      <td>12</td>\n",
       "      <td>10000001</td>\n",
       "    </tr>\n",
       "    <tr>\n",
       "      <th>2</th>\n",
       "      <td>22</td>\n",
       "      <td>37</td>\n",
       "      <td>2</td>\n",
       "      <td>10000002</td>\n",
       "    </tr>\n",
       "  </tbody>\n",
       "</table>\n",
       "</div>"
      ],
      "text/plain": [
       "   top1  top2  top3      chid\n",
       "0    10    48    37  10000000\n",
       "1    48    10    12  10000001\n",
       "2    22    37     2  10000002"
      ]
     },
     "execution_count": 57,
     "metadata": {},
     "output_type": "execute_result"
    }
   ],
   "source": [
    "result.head(3)"
   ]
  },
  {
   "cell_type": "code",
   "execution_count": 58,
   "metadata": {},
   "outputs": [],
   "source": [
    "base = pd.read_csv(\"./訓練資料集/model/1231/消費總金額計算(50群, 時間加權).csv\")"
   ]
  },
  {
   "cell_type": "code",
   "execution_count": 59,
   "metadata": {},
   "outputs": [
    {
     "data": {
      "text/html": [
       "<div>\n",
       "<style scoped>\n",
       "    .dataframe tbody tr th:only-of-type {\n",
       "        vertical-align: middle;\n",
       "    }\n",
       "\n",
       "    .dataframe tbody tr th {\n",
       "        vertical-align: top;\n",
       "    }\n",
       "\n",
       "    .dataframe thead th {\n",
       "        text-align: right;\n",
       "    }\n",
       "</style>\n",
       "<table border=\"1\" class=\"dataframe\">\n",
       "  <thead>\n",
       "    <tr style=\"text-align: right;\">\n",
       "      <th></th>\n",
       "      <th>chid</th>\n",
       "      <th>top1</th>\n",
       "      <th>top2</th>\n",
       "      <th>top3</th>\n",
       "    </tr>\n",
       "  </thead>\n",
       "  <tbody>\n",
       "    <tr>\n",
       "      <th>0</th>\n",
       "      <td>10128239</td>\n",
       "      <td>37</td>\n",
       "      <td>25</td>\n",
       "      <td>36</td>\n",
       "    </tr>\n",
       "    <tr>\n",
       "      <th>1</th>\n",
       "      <td>10077943</td>\n",
       "      <td>15</td>\n",
       "      <td>36</td>\n",
       "      <td>13</td>\n",
       "    </tr>\n",
       "    <tr>\n",
       "      <th>2</th>\n",
       "      <td>10277876</td>\n",
       "      <td>10</td>\n",
       "      <td>37</td>\n",
       "      <td>13</td>\n",
       "    </tr>\n",
       "  </tbody>\n",
       "</table>\n",
       "</div>"
      ],
      "text/plain": [
       "       chid  top1  top2  top3\n",
       "0  10128239    37    25    36\n",
       "1  10077943    15    36    13\n",
       "2  10277876    10    37    13"
      ]
     },
     "execution_count": 59,
     "metadata": {},
     "output_type": "execute_result"
    }
   ],
   "source": [
    "base.head(3)"
   ]
  },
  {
   "cell_type": "code",
   "execution_count": 60,
   "metadata": {},
   "outputs": [],
   "source": [
    "chid_set = set(range(10000000, 10500000)) - set(result.chid)\n",
    "chid_set = list(chid_set)"
   ]
  },
  {
   "cell_type": "code",
   "execution_count": 61,
   "metadata": {},
   "outputs": [
    {
     "data": {
      "text/plain": [
       "4402"
      ]
     },
     "execution_count": 61,
     "metadata": {},
     "output_type": "execute_result"
    }
   ],
   "source": [
    "len(chid_set)"
   ]
  },
  {
   "cell_type": "code",
   "execution_count": 62,
   "metadata": {
    "scrolled": true
   },
   "outputs": [
    {
     "name": "stderr",
     "output_type": "stream",
     "text": [
      "100%|█████████████████████████████████████████████████████████████████████| 4402/4402 [00:44<00:00, 98.51it/s]\n"
     ]
    }
   ],
   "source": [
    "chid_ls = \"\"\n",
    "data_num = len(chid_set)\n",
    "\n",
    "for i in trange(data_num):\n",
    "    base_df = base[base['chid'] == chid_set[i]]\n",
    "    result = result.append(base_df)"
   ]
  },
  {
   "cell_type": "code",
   "execution_count": 63,
   "metadata": {},
   "outputs": [
    {
     "data": {
      "text/plain": [
       "(500000, 4)"
      ]
     },
     "execution_count": 63,
     "metadata": {},
     "output_type": "execute_result"
    }
   ],
   "source": [
    "result.shape"
   ]
  },
  {
   "cell_type": "code",
   "execution_count": 64,
   "metadata": {},
   "outputs": [],
   "source": [
    "base = base.chid\n",
    "base = pd.merge(base, result, how='left', on=['chid'])"
   ]
  },
  {
   "cell_type": "code",
   "execution_count": 65,
   "metadata": {},
   "outputs": [],
   "source": [
    "base = base.astype(\"str\")\n",
    "base.to_csv('./訓練資料集/model/0103/將tag攤開成32維(拯救ID篇).csv', index=False)"
   ]
  },
  {
   "cell_type": "markdown",
   "metadata": {},
   "source": [
    "將攤開shop_tag的32維+總消費金額放進lightgbm，並預測 dt 22~24 的資料。  \n",
    "以「消費總金額計算(50群, 時間加權).csv」為基礎，重新填補可預測資料。  \n",
    "分數 : 0.6807"
   ]
  }
 ],
 "metadata": {
  "kernelspec": {
   "display_name": "Python 3",
   "language": "python",
   "name": "python3"
  },
  "language_info": {
   "codemirror_mode": {
    "name": "ipython",
    "version": 3
   },
   "file_extension": ".py",
   "mimetype": "text/x-python",
   "name": "python",
   "nbconvert_exporter": "python",
   "pygments_lexer": "ipython3",
   "version": "3.6.8"
  },
  "toc": {
   "base_numbering": 1,
   "nav_menu": {},
   "number_sections": true,
   "sideBar": true,
   "skip_h1_title": false,
   "title_cell": "Table of Contents",
   "title_sidebar": "Contents",
   "toc_cell": false,
   "toc_position": {
    "height": "calc(100% - 180px)",
    "left": "10px",
    "top": "150px",
    "width": "256px"
   },
   "toc_section_display": true,
   "toc_window_display": false
  }
 },
 "nbformat": 4,
 "nbformat_minor": 5
}
