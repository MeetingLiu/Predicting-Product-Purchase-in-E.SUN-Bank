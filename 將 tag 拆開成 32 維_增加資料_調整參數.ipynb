{
 "cells": [
  {
   "cell_type": "code",
   "execution_count": 1,
   "metadata": {},
   "outputs": [],
   "source": [
    "import pandas as pd\n",
    "import numpy as np\n",
    "import os\n",
    "import sklearn\n",
    "import seaborn as sns\n",
    "from matplotlib import pyplot as plt\n",
    "%matplotlib inline\n",
    "plt.style.use(\"ggplot\")\n",
    "\n",
    "import dask.dataframe as dd\n",
    "from tqdm import trange\n",
    "import lightgbm, joblib"
   ]
  },
  {
   "cell_type": "markdown",
   "metadata": {},
   "source": [
    "# 測試集載入"
   ]
  },
  {
   "cell_type": "code",
   "execution_count": 57,
   "metadata": {},
   "outputs": [],
   "source": [
    "test = pd.read_csv(\"./訓練資料集/model/0103/data/traindata_at_22_24dt.csv\")"
   ]
  },
  {
   "cell_type": "code",
   "execution_count": 58,
   "metadata": {},
   "outputs": [
    {
     "data": {
      "text/plain": [
       "31207"
      ]
     },
     "execution_count": 58,
     "metadata": {},
     "output_type": "execute_result"
    }
   ],
   "source": [
    "chid_set = set(range(10000000, 10500000)) - set(test.chid)\n",
    "chid_set = list(chid_set)\n",
    "len(chid_set)"
   ]
  },
  {
   "cell_type": "markdown",
   "metadata": {},
   "source": [
    "# 訓練集載入"
   ]
  },
  {
   "cell_type": "code",
   "execution_count": 59,
   "metadata": {},
   "outputs": [],
   "source": [
    "train_1 = pd.read_csv(\"./訓練資料集/model/0103/data/traindata_at_{}_{}dt.csv\".format(13, 15)).reset_index(drop=True)\n",
    "train_2 = pd.read_csv(\"./訓練資料集/model/0103/data/traindata_at_{}_{}dt.csv\".format(14, 16)).reset_index(drop=True)\n",
    "train_3 = pd.read_csv(\"./訓練資料集/model/0103/data/traindata_at_{}_{}dt.csv\".format(15, 17)).reset_index(drop=True)\n",
    "train_4 = pd.read_csv(\"./訓練資料集/model/0103/data/traindata_at_{}_{}dt.csv\".format(16, 18)).reset_index(drop=True)\n",
    "train_5 = pd.read_csv(\"./訓練資料集/model/0103/data/traindata_at_{}_{}dt.csv\".format(17, 19)).reset_index(drop=True)\n",
    "train_6 = pd.read_csv(\"./訓練資料集/model/0103/data/traindata_at_{}_{}dt.csv\".format(18, 20)).reset_index(drop=True)\n",
    "train_7 = pd.read_csv(\"./訓練資料集/model/0103/data/traindata_at_{}_{}dt.csv\".format(19, 21)).reset_index(drop=True)\n",
    "train_8 = pd.read_csv(\"./訓練資料集/model/0103/data/traindata_at_{}_{}dt.csv\".format(20, 22)).reset_index(drop=True)\n",
    "train_9 = pd.read_csv(\"./訓練資料集/model/0103/data/traindata_at_{}_{}dt.csv\".format(21, 23)).reset_index(drop=True)"
   ]
  },
  {
   "cell_type": "code",
   "execution_count": 60,
   "metadata": {
    "scrolled": true
   },
   "outputs": [
    {
     "name": "stderr",
     "output_type": "stream",
     "text": [
      "100%|██████████████████████████████████████████████████████████████████████████| 31207/31207 [3:10:31<00:00,  2.73it/s]\n"
     ]
    }
   ],
   "source": [
    "for i in trange(len(chid_set)):\n",
    "    id_ = chid_set[i]\n",
    "\n",
    "    if id_ in list(train_9.chid):\n",
    "        df_append = train_9[train_9.chid==id_]\n",
    "        test = test.append(df_append.drop(columns=['y_tag']))\n",
    "        train_9 = train_9.drop(df_append.index)\n",
    "    \n",
    "    elif id_ in list(train_8.chid):\n",
    "        df_append = train_8[train_8.chid==id_]\n",
    "        test = test.append(df_append.drop(columns=['y_tag']))\n",
    "        train_8 = train_8.drop(df_append.index)\n",
    "        \n",
    "    elif id_ in list(train_7.chid):\n",
    "        df_append = train_7[train_7.chid==id_]\n",
    "        test = test.append(df_append.drop(columns=['y_tag']))\n",
    "        train_7 = train_7.drop(df_append.index)\n",
    "    \n",
    "    elif id_ in list(train_6.chid):\n",
    "        df_append = train_6[train_6.chid==id_]\n",
    "        test = test.append(df_append.drop(columns=['y_tag']))\n",
    "        train_6 = train_6.drop(df_append.index)\n",
    "    \n",
    "    elif id_ in list(train_5.chid):\n",
    "        df_append = train_5[train_5.chid==id_]\n",
    "        test = test.append(df_append.drop(columns=['y_tag']))\n",
    "        train_5 = train_5.drop(df_append.index)\n",
    "                                \n",
    "    elif id_ in list(train_4.chid):\n",
    "        df_append = train_4[train_4.chid==id_]\n",
    "        test = test.append(df_append.drop(columns=['y_tag']))\n",
    "        train_4 = train_4.drop(df_append.index)\n",
    "        \n",
    "    elif id_ in list(train_3.chid):\n",
    "        df_append = train_3[train_3.chid==id_]\n",
    "        test = test.append(df_append.drop(columns=['y_tag']))\n",
    "        train_3 = train_3.drop(df_append.index)\n",
    "        \n",
    "    elif id_ in list(train_2.chid):\n",
    "        df_append = train_2[train_2.chid==id_]\n",
    "        test = test.append(df_append.drop(columns=['y_tag']))\n",
    "        train_2 = train_2.drop(df_append.index)\n",
    "        \n",
    "    elif id_ in list(train_1.chid):\n",
    "        df_append = train_1[train_1.chid==id_]\n",
    "        test = test.append(df_append.drop(columns=['y_tag']))\n",
    "        train_1 = train_1.drop(df_append.index)\n",
    "        \n",
    "    else:\n",
    "        a = pd.DataFrame([id_] + [0]*34).transpose()\n",
    "        a.columns = ['chid', '2_cnt', '6_cnt', '10_cnt', '12_cnt', '13_cnt', '15_cnt',\n",
    "                     '18_cnt', '19_cnt', '21_cnt', '22_cnt', '25_cnt', '26_cnt', '36_cnt',\n",
    "                     '37_cnt', '39_cnt', '48_cnt', '2_amt', '6_amt', '10_amt', '12_amt',\n",
    "                     '13_amt', '15_amt', '18_amt', '19_amt', '21_amt', '22_amt', '25_amt',\n",
    "                     '26_amt', '36_amt', '37_amt', '39_amt', '48_amt', 'txn_amt', 'txn_cnt']\n",
    "        test = test.append(a)"
   ]
  },
  {
   "cell_type": "code",
   "execution_count": 61,
   "metadata": {},
   "outputs": [
    {
     "data": {
      "text/plain": [
       "(500000, 35)"
      ]
     },
     "execution_count": 61,
     "metadata": {},
     "output_type": "execute_result"
    }
   ],
   "source": [
    "test.shape"
   ]
  },
  {
   "cell_type": "code",
   "execution_count": 62,
   "metadata": {},
   "outputs": [],
   "source": [
    "test = test.sort_values(by=['chid']).reset_index(drop=True)\n",
    "test.to_csv(\"./訓練資料集/model/0105/testing_data_remedy.csv\", index=False)"
   ]
  },
  {
   "cell_type": "code",
   "execution_count": 67,
   "metadata": {},
   "outputs": [],
   "source": [
    "test=''"
   ]
  },
  {
   "cell_type": "code",
   "execution_count": 68,
   "metadata": {},
   "outputs": [
    {
     "data": {
      "text/html": [
       "<div>\n",
       "<style scoped>\n",
       "    .dataframe tbody tr th:only-of-type {\n",
       "        vertical-align: middle;\n",
       "    }\n",
       "\n",
       "    .dataframe tbody tr th {\n",
       "        vertical-align: top;\n",
       "    }\n",
       "\n",
       "    .dataframe thead th {\n",
       "        text-align: right;\n",
       "    }\n",
       "</style>\n",
       "<table border=\"1\" class=\"dataframe\">\n",
       "  <thead>\n",
       "    <tr style=\"text-align: right;\">\n",
       "      <th></th>\n",
       "      <th>chid</th>\n",
       "      <th>2_cnt</th>\n",
       "      <th>6_cnt</th>\n",
       "      <th>10_cnt</th>\n",
       "      <th>12_cnt</th>\n",
       "      <th>13_cnt</th>\n",
       "      <th>15_cnt</th>\n",
       "      <th>18_cnt</th>\n",
       "      <th>19_cnt</th>\n",
       "      <th>21_cnt</th>\n",
       "      <th>...</th>\n",
       "      <th>22_amt</th>\n",
       "      <th>25_amt</th>\n",
       "      <th>26_amt</th>\n",
       "      <th>36_amt</th>\n",
       "      <th>37_amt</th>\n",
       "      <th>39_amt</th>\n",
       "      <th>48_amt</th>\n",
       "      <th>txn_amt</th>\n",
       "      <th>txn_cnt</th>\n",
       "      <th>y_tag</th>\n",
       "    </tr>\n",
       "  </thead>\n",
       "  <tbody>\n",
       "    <tr>\n",
       "      <th>0</th>\n",
       "      <td>10000000</td>\n",
       "      <td>0.0</td>\n",
       "      <td>0.0</td>\n",
       "      <td>9.0</td>\n",
       "      <td>3.0</td>\n",
       "      <td>0.0</td>\n",
       "      <td>0.0</td>\n",
       "      <td>0.0</td>\n",
       "      <td>0.0</td>\n",
       "      <td>0.0</td>\n",
       "      <td>...</td>\n",
       "      <td>0.000000</td>\n",
       "      <td>0.0</td>\n",
       "      <td>0.0</td>\n",
       "      <td>0.0000</td>\n",
       "      <td>0.000000</td>\n",
       "      <td>0.0</td>\n",
       "      <td>0.0</td>\n",
       "      <td>53358.815509</td>\n",
       "      <td>12.0</td>\n",
       "      <td>10</td>\n",
       "    </tr>\n",
       "    <tr>\n",
       "      <th>1</th>\n",
       "      <td>10000001</td>\n",
       "      <td>0.0</td>\n",
       "      <td>1.0</td>\n",
       "      <td>0.0</td>\n",
       "      <td>1.0</td>\n",
       "      <td>0.0</td>\n",
       "      <td>1.0</td>\n",
       "      <td>0.0</td>\n",
       "      <td>0.0</td>\n",
       "      <td>0.0</td>\n",
       "      <td>...</td>\n",
       "      <td>0.000000</td>\n",
       "      <td>0.0</td>\n",
       "      <td>0.0</td>\n",
       "      <td>2136.2535</td>\n",
       "      <td>5972.879875</td>\n",
       "      <td>0.0</td>\n",
       "      <td>0.0</td>\n",
       "      <td>28310.733048</td>\n",
       "      <td>8.0</td>\n",
       "      <td>39</td>\n",
       "    </tr>\n",
       "    <tr>\n",
       "      <th>2</th>\n",
       "      <td>10000003</td>\n",
       "      <td>0.0</td>\n",
       "      <td>0.0</td>\n",
       "      <td>0.0</td>\n",
       "      <td>0.0</td>\n",
       "      <td>0.0</td>\n",
       "      <td>0.0</td>\n",
       "      <td>0.0</td>\n",
       "      <td>0.0</td>\n",
       "      <td>0.0</td>\n",
       "      <td>...</td>\n",
       "      <td>8554.030804</td>\n",
       "      <td>0.0</td>\n",
       "      <td>0.0</td>\n",
       "      <td>0.0000</td>\n",
       "      <td>0.000000</td>\n",
       "      <td>0.0</td>\n",
       "      <td>0.0</td>\n",
       "      <td>8554.030804</td>\n",
       "      <td>1.0</td>\n",
       "      <td>0</td>\n",
       "    </tr>\n",
       "    <tr>\n",
       "      <th>3</th>\n",
       "      <td>10000004</td>\n",
       "      <td>0.0</td>\n",
       "      <td>0.0</td>\n",
       "      <td>0.0</td>\n",
       "      <td>2.0</td>\n",
       "      <td>0.0</td>\n",
       "      <td>0.0</td>\n",
       "      <td>0.0</td>\n",
       "      <td>0.0</td>\n",
       "      <td>0.0</td>\n",
       "      <td>...</td>\n",
       "      <td>0.000000</td>\n",
       "      <td>0.0</td>\n",
       "      <td>0.0</td>\n",
       "      <td>0.0000</td>\n",
       "      <td>0.000000</td>\n",
       "      <td>0.0</td>\n",
       "      <td>0.0</td>\n",
       "      <td>15271.878083</td>\n",
       "      <td>2.0</td>\n",
       "      <td>37</td>\n",
       "    </tr>\n",
       "    <tr>\n",
       "      <th>4</th>\n",
       "      <td>10000006</td>\n",
       "      <td>0.0</td>\n",
       "      <td>0.0</td>\n",
       "      <td>0.0</td>\n",
       "      <td>0.0</td>\n",
       "      <td>0.0</td>\n",
       "      <td>0.0</td>\n",
       "      <td>0.0</td>\n",
       "      <td>0.0</td>\n",
       "      <td>0.0</td>\n",
       "      <td>...</td>\n",
       "      <td>0.000000</td>\n",
       "      <td>0.0</td>\n",
       "      <td>0.0</td>\n",
       "      <td>0.0000</td>\n",
       "      <td>6945.246505</td>\n",
       "      <td>0.0</td>\n",
       "      <td>0.0</td>\n",
       "      <td>6945.246505</td>\n",
       "      <td>2.0</td>\n",
       "      <td>0</td>\n",
       "    </tr>\n",
       "  </tbody>\n",
       "</table>\n",
       "<p>5 rows × 36 columns</p>\n",
       "</div>"
      ],
      "text/plain": [
       "       chid  2_cnt  6_cnt  10_cnt  12_cnt  13_cnt  15_cnt  18_cnt  19_cnt  \\\n",
       "0  10000000    0.0    0.0     9.0     3.0     0.0     0.0     0.0     0.0   \n",
       "1  10000001    0.0    1.0     0.0     1.0     0.0     1.0     0.0     0.0   \n",
       "2  10000003    0.0    0.0     0.0     0.0     0.0     0.0     0.0     0.0   \n",
       "3  10000004    0.0    0.0     0.0     2.0     0.0     0.0     0.0     0.0   \n",
       "4  10000006    0.0    0.0     0.0     0.0     0.0     0.0     0.0     0.0   \n",
       "\n",
       "   21_cnt  ...       22_amt  25_amt  26_amt     36_amt       37_amt  39_amt  \\\n",
       "0     0.0  ...     0.000000     0.0     0.0     0.0000     0.000000     0.0   \n",
       "1     0.0  ...     0.000000     0.0     0.0  2136.2535  5972.879875     0.0   \n",
       "2     0.0  ...  8554.030804     0.0     0.0     0.0000     0.000000     0.0   \n",
       "3     0.0  ...     0.000000     0.0     0.0     0.0000     0.000000     0.0   \n",
       "4     0.0  ...     0.000000     0.0     0.0     0.0000  6945.246505     0.0   \n",
       "\n",
       "   48_amt       txn_amt  txn_cnt  y_tag  \n",
       "0     0.0  53358.815509     12.0     10  \n",
       "1     0.0  28310.733048      8.0     39  \n",
       "2     0.0   8554.030804      1.0      0  \n",
       "3     0.0  15271.878083      2.0     37  \n",
       "4     0.0   6945.246505      2.0      0  \n",
       "\n",
       "[5 rows x 36 columns]"
      ]
     },
     "execution_count": 68,
     "metadata": {},
     "output_type": "execute_result"
    }
   ],
   "source": [
    "train_1.head()"
   ]
  },
  {
   "cell_type": "code",
   "execution_count": 63,
   "metadata": {},
   "outputs": [],
   "source": [
    "df = pd.concat([train_1, train_2, train_3 , train_4, train_5, train_6, train_7, train_8, train_9]).reset_index(drop=True)"
   ]
  },
  {
   "cell_type": "code",
   "execution_count": 64,
   "metadata": {},
   "outputs": [],
   "source": [
    "df = df[df['y_tag']>0]"
   ]
  },
  {
   "cell_type": "code",
   "execution_count": 65,
   "metadata": {},
   "outputs": [
    {
     "data": {
      "text/plain": [
       "(3339148, 36)"
      ]
     },
     "execution_count": 65,
     "metadata": {},
     "output_type": "execute_result"
    }
   ],
   "source": [
    "df.shape"
   ]
  },
  {
   "cell_type": "code",
   "execution_count": 66,
   "metadata": {},
   "outputs": [],
   "source": [
    "df.to_csv(\"./訓練資料集/model/0105/training_data_remedy_removed.csv\", index=False)"
   ]
  },
  {
   "cell_type": "markdown",
   "metadata": {},
   "source": [
    "# 訓練模型"
   ]
  },
  {
   "cell_type": "code",
   "execution_count": 108,
   "metadata": {},
   "outputs": [],
   "source": [
    "#train = pd.read_csv(\"./訓練資料集/model/0105/training_data_remedy_removed.csv\")\n",
    "train = pd.read_csv(\"./訓練資料集/model/0105/training_data_add_others.csv\")\n",
    "test = pd.read_csv(\"./訓練資料集/model/0105/testing_data_remedy.csv\")\n",
    "test = pd.read_csv(\"./訓練資料集/model/0105/testing_data_add_others.csv\")"
   ]
  },
  {
   "cell_type": "code",
   "execution_count": 109,
   "metadata": {},
   "outputs": [
    {
     "data": {
      "text/plain": [
       "37    825248\n",
       "10    440857\n",
       "2     353637\n",
       "36    313028\n",
       "15    285846\n",
       "48    248639\n",
       "12    153808\n",
       "19    147654\n",
       "39    102952\n",
       "6      95320\n",
       "18     76735\n",
       "13     73675\n",
       "26     71247\n",
       "25     53368\n",
       "21     51944\n",
       "22     45190\n",
       "Name: y_tag, dtype: int64"
      ]
     },
     "execution_count": 109,
     "metadata": {},
     "output_type": "execute_result"
    }
   ],
   "source": [
    "train['y_tag'].value_counts()"
   ]
  },
  {
   "cell_type": "code",
   "execution_count": 115,
   "metadata": {},
   "outputs": [
    {
     "data": {
      "text/plain": [
       "LGBMClassifier(learning_rate=0.05, max_depth=5, min_child_samples=100)"
      ]
     },
     "execution_count": 115,
     "metadata": {},
     "output_type": "execute_result"
    }
   ],
   "source": [
    "import lightgbm\n",
    "model = lightgbm.LGBMClassifier(max_depth=5, learning_rate=0.05, min_child_samples=100)\n",
    "X = train.drop(columns=['chid', 'y_tag'])\n",
    "y = train['y_tag']\n",
    "model.fit(X, y)"
   ]
  },
  {
   "cell_type": "code",
   "execution_count": 116,
   "metadata": {},
   "outputs": [
    {
     "data": {
      "text/plain": [
       "['./訓練資料集/model/0105/lightgbm_model_with_balanced_add_others.pkl']"
      ]
     },
     "execution_count": 116,
     "metadata": {},
     "output_type": "execute_result"
    }
   ],
   "source": [
    "# Save model\n",
    "import joblib\n",
    "joblib.dump(model, './訓練資料集/model/0105/lightgbm_model_with_balanced_add_others.pkl')"
   ]
  },
  {
   "cell_type": "code",
   "execution_count": 117,
   "metadata": {},
   "outputs": [],
   "source": [
    "y_proba = model.predict_proba(test.drop(columns=['chid']))  # "
   ]
  },
  {
   "cell_type": "code",
   "execution_count": 118,
   "metadata": {},
   "outputs": [
    {
     "data": {
      "text/plain": [
       "(500000, 16)"
      ]
     },
     "execution_count": 118,
     "metadata": {},
     "output_type": "execute_result"
    }
   ],
   "source": [
    "y_proba.shape"
   ]
  },
  {
   "cell_type": "code",
   "execution_count": 119,
   "metadata": {},
   "outputs": [
    {
     "name": "stderr",
     "output_type": "stream",
     "text": [
      "100%|███████████████████████████████████████████████████████████████████████| 500000/500000 [00:08<00:00, 58849.58it/s]\n"
     ]
    }
   ],
   "source": [
    "tag_unique = [2, 6, 10, 12, 13, 15, 18, 19, 21, 22, 25, 26, 36, 37, 39, 48]\n",
    "result = []\n",
    "for i in trange(y_proba.shape[0]):\n",
    "    proba_ls = [(proba, tag) for proba, tag in zip(y_proba[i], tag_unique)]\n",
    "    proba_ls = sorted(proba_ls, reverse=True)\n",
    "    pred_tag_ls = [tag for proba, tag in proba_ls[:3]]\n",
    "    result.append(pred_tag_ls)"
   ]
  },
  {
   "cell_type": "code",
   "execution_count": 120,
   "metadata": {},
   "outputs": [],
   "source": [
    "result = pd.DataFrame(result, columns=['top1', 'top2', 'top3'])\n",
    "result['chid'] = list(test.reset_index().chid)\n",
    "result = result[['chid', 'top1', 'top2', 'top3']]"
   ]
  },
  {
   "cell_type": "code",
   "execution_count": 121,
   "metadata": {},
   "outputs": [
    {
     "data": {
      "text/plain": [
       "37    168886\n",
       "10     72175\n",
       "2      59144\n",
       "36     46852\n",
       "48     41820\n",
       "15     36467\n",
       "12     19098\n",
       "6      11078\n",
       "13     10105\n",
       "19      9086\n",
       "39      6061\n",
       "22      6043\n",
       "26      5104\n",
       "18      4045\n",
       "25      3382\n",
       "21       654\n",
       "Name: top1, dtype: int64"
      ]
     },
     "execution_count": 121,
     "metadata": {},
     "output_type": "execute_result"
    }
   ],
   "source": [
    "result.top1.value_counts()"
   ]
  },
  {
   "cell_type": "code",
   "execution_count": 122,
   "metadata": {},
   "outputs": [
    {
     "data": {
      "text/plain": [
       "37    100013\n",
       "2      94568\n",
       "15     92579\n",
       "10     52589\n",
       "36     34241\n",
       "48     28974\n",
       "19     20350\n",
       "12     17158\n",
       "39     14728\n",
       "13      9629\n",
       "18      7119\n",
       "26      6976\n",
       "6       6709\n",
       "22      5586\n",
       "25      5460\n",
       "21      3321\n",
       "Name: top2, dtype: int64"
      ]
     },
     "execution_count": 122,
     "metadata": {},
     "output_type": "execute_result"
    }
   ],
   "source": [
    "result.top2.value_counts()"
   ]
  },
  {
   "cell_type": "code",
   "execution_count": 123,
   "metadata": {},
   "outputs": [
    {
     "data": {
      "text/plain": [
       "15    131949\n",
       "2     119230\n",
       "37     56625\n",
       "10     39604\n",
       "19     28962\n",
       "48     23936\n",
       "36     23782\n",
       "39     20314\n",
       "12     13245\n",
       "18      8695\n",
       "13      7604\n",
       "26      6446\n",
       "6       5343\n",
       "25      5201\n",
       "21      4888\n",
       "22      4176\n",
       "Name: top3, dtype: int64"
      ]
     },
     "execution_count": 123,
     "metadata": {},
     "output_type": "execute_result"
    }
   ],
   "source": [
    "result.top3.value_counts()"
   ]
  },
  {
   "cell_type": "code",
   "execution_count": 124,
   "metadata": {},
   "outputs": [
    {
     "data": {
      "text/html": [
       "<div>\n",
       "<style scoped>\n",
       "    .dataframe tbody tr th:only-of-type {\n",
       "        vertical-align: middle;\n",
       "    }\n",
       "\n",
       "    .dataframe tbody tr th {\n",
       "        vertical-align: top;\n",
       "    }\n",
       "\n",
       "    .dataframe thead th {\n",
       "        text-align: right;\n",
       "    }\n",
       "</style>\n",
       "<table border=\"1\" class=\"dataframe\">\n",
       "  <thead>\n",
       "    <tr style=\"text-align: right;\">\n",
       "      <th></th>\n",
       "      <th>chid</th>\n",
       "      <th>top1</th>\n",
       "      <th>top2</th>\n",
       "      <th>top3</th>\n",
       "    </tr>\n",
       "  </thead>\n",
       "  <tbody>\n",
       "    <tr>\n",
       "      <th>0</th>\n",
       "      <td>10000000</td>\n",
       "      <td>10</td>\n",
       "      <td>48</td>\n",
       "      <td>37</td>\n",
       "    </tr>\n",
       "    <tr>\n",
       "      <th>1</th>\n",
       "      <td>10000001</td>\n",
       "      <td>48</td>\n",
       "      <td>10</td>\n",
       "      <td>37</td>\n",
       "    </tr>\n",
       "    <tr>\n",
       "      <th>2</th>\n",
       "      <td>10000002</td>\n",
       "      <td>22</td>\n",
       "      <td>37</td>\n",
       "      <td>2</td>\n",
       "    </tr>\n",
       "  </tbody>\n",
       "</table>\n",
       "</div>"
      ],
      "text/plain": [
       "       chid  top1  top2  top3\n",
       "0  10000000    10    48    37\n",
       "1  10000001    48    10    37\n",
       "2  10000002    22    37     2"
      ]
     },
     "execution_count": 124,
     "metadata": {},
     "output_type": "execute_result"
    }
   ],
   "source": [
    "result.head(3)"
   ]
  },
  {
   "cell_type": "code",
   "execution_count": 125,
   "metadata": {},
   "outputs": [
    {
     "data": {
      "text/plain": [
       "(500000, 4)"
      ]
     },
     "execution_count": 125,
     "metadata": {},
     "output_type": "execute_result"
    }
   ],
   "source": [
    "result.shape"
   ]
  },
  {
   "cell_type": "code",
   "execution_count": 126,
   "metadata": {},
   "outputs": [],
   "source": [
    "result = result.astype(\"str\")\n",
    "result.to_csv('./訓練資料集/model/0105/將tag攤開成32維(增加訓練資料)_AddOthers.csv', index=False)"
   ]
  },
  {
   "cell_type": "code",
   "execution_count": null,
   "metadata": {},
   "outputs": [],
   "source": []
  }
 ],
 "metadata": {
  "kernelspec": {
   "display_name": "Python 3",
   "language": "python",
   "name": "python3"
  },
  "language_info": {
   "codemirror_mode": {
    "name": "ipython",
    "version": 3
   },
   "file_extension": ".py",
   "mimetype": "text/x-python",
   "name": "python",
   "nbconvert_exporter": "python",
   "pygments_lexer": "ipython3",
   "version": "3.6.8"
  },
  "toc": {
   "base_numbering": 1,
   "nav_menu": {},
   "number_sections": true,
   "sideBar": true,
   "skip_h1_title": false,
   "title_cell": "Table of Contents",
   "title_sidebar": "Contents",
   "toc_cell": false,
   "toc_position": {},
   "toc_section_display": true,
   "toc_window_display": false
  }
 },
 "nbformat": 4,
 "nbformat_minor": 5
}
