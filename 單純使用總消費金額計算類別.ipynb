{
 "cells": [
  {
   "cell_type": "markdown",
   "metadata": {},
   "source": [
    "# Base Load"
   ]
  },
  {
   "cell_type": "code",
   "execution_count": 1,
   "metadata": {},
   "outputs": [],
   "source": [
    "import pandas as pd\n",
    "import numpy as np\n",
    "import os\n",
    "import sklearn\n",
    "import seaborn as sns\n",
    "from matplotlib import pyplot as plt\n",
    "%matplotlib inline\n",
    "plt.style.use(\"ggplot\")\n",
    "\n",
    "import dask.dataframe as dd\n",
    "from tqdm import trange\n",
    "import pickle"
   ]
  },
  {
   "cell_type": "markdown",
   "metadata": {},
   "source": [
    "##  data"
   ]
  },
  {
   "cell_type": "code",
   "execution_count": 12,
   "metadata": {},
   "outputs": [],
   "source": [
    "df = dd.read_parquet(\"./訓練資料集/Cut_for_13dt_24dt\").compute()"
   ]
  },
  {
   "cell_type": "code",
   "execution_count": 13,
   "metadata": {},
   "outputs": [
    {
     "data": {
      "text/html": [
       "<div>\n",
       "<style scoped>\n",
       "    .dataframe tbody tr th:only-of-type {\n",
       "        vertical-align: middle;\n",
       "    }\n",
       "\n",
       "    .dataframe tbody tr th {\n",
       "        vertical-align: top;\n",
       "    }\n",
       "\n",
       "    .dataframe thead th {\n",
       "        text-align: right;\n",
       "    }\n",
       "</style>\n",
       "<table border=\"1\" class=\"dataframe\">\n",
       "  <thead>\n",
       "    <tr style=\"text-align: right;\">\n",
       "      <th></th>\n",
       "      <th>dt</th>\n",
       "      <th>chid</th>\n",
       "      <th>shop_tag</th>\n",
       "      <th>txn_cnt</th>\n",
       "      <th>txn_amt</th>\n",
       "      <th>domestic_offline_cnt</th>\n",
       "      <th>domestic_online_cnt</th>\n",
       "      <th>overseas_offline_cnt</th>\n",
       "      <th>overseas_online_cnt</th>\n",
       "      <th>domestic_offline_amt_pct</th>\n",
       "      <th>...</th>\n",
       "      <th>masts</th>\n",
       "      <th>educd</th>\n",
       "      <th>trdtp</th>\n",
       "      <th>naty</th>\n",
       "      <th>poscd</th>\n",
       "      <th>cuorg</th>\n",
       "      <th>slam</th>\n",
       "      <th>gender_code</th>\n",
       "      <th>age</th>\n",
       "      <th>primary_card</th>\n",
       "    </tr>\n",
       "  </thead>\n",
       "  <tbody>\n",
       "    <tr>\n",
       "      <th>0</th>\n",
       "      <td>13.0</td>\n",
       "      <td>10115966</td>\n",
       "      <td>15</td>\n",
       "      <td>1.0</td>\n",
       "      <td>9807.041135</td>\n",
       "      <td>1.0</td>\n",
       "      <td>0.0</td>\n",
       "      <td>0.0</td>\n",
       "      <td>0.0</td>\n",
       "      <td>1.00</td>\n",
       "      <td>...</td>\n",
       "      <td>1.0</td>\n",
       "      <td>4.0</td>\n",
       "      <td>15.0</td>\n",
       "      <td>1.0</td>\n",
       "      <td>1.0</td>\n",
       "      <td>30.0</td>\n",
       "      <td>133000.939458</td>\n",
       "      <td>0.0</td>\n",
       "      <td>5.0</td>\n",
       "      <td>1.0</td>\n",
       "    </tr>\n",
       "    <tr>\n",
       "      <th>1</th>\n",
       "      <td>13.0</td>\n",
       "      <td>10115966</td>\n",
       "      <td>18</td>\n",
       "      <td>3.0</td>\n",
       "      <td>19370.227515</td>\n",
       "      <td>1.0</td>\n",
       "      <td>2.0</td>\n",
       "      <td>0.0</td>\n",
       "      <td>0.0</td>\n",
       "      <td>0.23</td>\n",
       "      <td>...</td>\n",
       "      <td>1.0</td>\n",
       "      <td>4.0</td>\n",
       "      <td>15.0</td>\n",
       "      <td>1.0</td>\n",
       "      <td>1.0</td>\n",
       "      <td>30.0</td>\n",
       "      <td>133000.939458</td>\n",
       "      <td>0.0</td>\n",
       "      <td>5.0</td>\n",
       "      <td>1.0</td>\n",
       "    </tr>\n",
       "    <tr>\n",
       "      <th>2</th>\n",
       "      <td>13.0</td>\n",
       "      <td>10115966</td>\n",
       "      <td>21</td>\n",
       "      <td>1.0</td>\n",
       "      <td>9754.222977</td>\n",
       "      <td>1.0</td>\n",
       "      <td>0.0</td>\n",
       "      <td>0.0</td>\n",
       "      <td>0.0</td>\n",
       "      <td>1.00</td>\n",
       "      <td>...</td>\n",
       "      <td>1.0</td>\n",
       "      <td>4.0</td>\n",
       "      <td>15.0</td>\n",
       "      <td>1.0</td>\n",
       "      <td>1.0</td>\n",
       "      <td>30.0</td>\n",
       "      <td>133000.939458</td>\n",
       "      <td>0.0</td>\n",
       "      <td>5.0</td>\n",
       "      <td>1.0</td>\n",
       "    </tr>\n",
       "    <tr>\n",
       "      <th>3</th>\n",
       "      <td>13.0</td>\n",
       "      <td>10115966</td>\n",
       "      <td>37</td>\n",
       "      <td>8.0</td>\n",
       "      <td>17144.945999</td>\n",
       "      <td>1.0</td>\n",
       "      <td>7.0</td>\n",
       "      <td>0.0</td>\n",
       "      <td>0.0</td>\n",
       "      <td>0.12</td>\n",
       "      <td>...</td>\n",
       "      <td>1.0</td>\n",
       "      <td>4.0</td>\n",
       "      <td>15.0</td>\n",
       "      <td>1.0</td>\n",
       "      <td>1.0</td>\n",
       "      <td>30.0</td>\n",
       "      <td>133000.939458</td>\n",
       "      <td>0.0</td>\n",
       "      <td>5.0</td>\n",
       "      <td>1.0</td>\n",
       "    </tr>\n",
       "    <tr>\n",
       "      <th>4</th>\n",
       "      <td>13.0</td>\n",
       "      <td>10294163</td>\n",
       "      <td>36</td>\n",
       "      <td>1.0</td>\n",
       "      <td>5773.036485</td>\n",
       "      <td>1.0</td>\n",
       "      <td>0.0</td>\n",
       "      <td>0.0</td>\n",
       "      <td>0.0</td>\n",
       "      <td>1.00</td>\n",
       "      <td>...</td>\n",
       "      <td>2.0</td>\n",
       "      <td>2.0</td>\n",
       "      <td>11.0</td>\n",
       "      <td>1.0</td>\n",
       "      <td>2.0</td>\n",
       "      <td>30.0</td>\n",
       "      <td>68561.179121</td>\n",
       "      <td>0.0</td>\n",
       "      <td>3.0</td>\n",
       "      <td>1.0</td>\n",
       "    </tr>\n",
       "  </tbody>\n",
       "</table>\n",
       "<p>5 rows × 53 columns</p>\n",
       "</div>"
      ],
      "text/plain": [
       "     dt      chid  shop_tag  txn_cnt       txn_amt  domestic_offline_cnt  \\\n",
       "0  13.0  10115966        15      1.0   9807.041135                   1.0   \n",
       "1  13.0  10115966        18      3.0  19370.227515                   1.0   \n",
       "2  13.0  10115966        21      1.0   9754.222977                   1.0   \n",
       "3  13.0  10115966        37      8.0  17144.945999                   1.0   \n",
       "4  13.0  10294163        36      1.0   5773.036485                   1.0   \n",
       "\n",
       "   domestic_online_cnt  overseas_offline_cnt  overseas_online_cnt  \\\n",
       "0                  0.0                   0.0                  0.0   \n",
       "1                  2.0                   0.0                  0.0   \n",
       "2                  0.0                   0.0                  0.0   \n",
       "3                  7.0                   0.0                  0.0   \n",
       "4                  0.0                   0.0                  0.0   \n",
       "\n",
       "   domestic_offline_amt_pct  ...  masts  educd  trdtp  naty  poscd  cuorg  \\\n",
       "0                      1.00  ...    1.0    4.0   15.0   1.0    1.0   30.0   \n",
       "1                      0.23  ...    1.0    4.0   15.0   1.0    1.0   30.0   \n",
       "2                      1.00  ...    1.0    4.0   15.0   1.0    1.0   30.0   \n",
       "3                      0.12  ...    1.0    4.0   15.0   1.0    1.0   30.0   \n",
       "4                      1.00  ...    2.0    2.0   11.0   1.0    2.0   30.0   \n",
       "\n",
       "            slam  gender_code  age  primary_card  \n",
       "0  133000.939458          0.0  5.0           1.0  \n",
       "1  133000.939458          0.0  5.0           1.0  \n",
       "2  133000.939458          0.0  5.0           1.0  \n",
       "3  133000.939458          0.0  5.0           1.0  \n",
       "4   68561.179121          0.0  3.0           1.0  \n",
       "\n",
       "[5 rows x 53 columns]"
      ]
     },
     "execution_count": 13,
     "metadata": {},
     "output_type": "execute_result"
    }
   ],
   "source": [
    "df.head(5)"
   ]
  },
  {
   "cell_type": "markdown",
   "metadata": {},
   "source": [
    "# KMeans 分群 -- 50群"
   ]
  },
  {
   "cell_type": "code",
   "execution_count": 42,
   "metadata": {},
   "outputs": [],
   "source": [
    "df2 = df[['chid', 'txn_amt', 'txn_cnt']]\n",
    "df2 = df2.groupby(by=['chid']).sum()\n",
    "df2 = df2.reset_index()"
   ]
  },
  {
   "cell_type": "code",
   "execution_count": 49,
   "metadata": {},
   "outputs": [
    {
     "name": "stdout",
     "output_type": "stream",
     "text": [
      "4402\n"
     ]
    }
   ],
   "source": [
    "no_data = list(set(range(10000000, 10500000)) - set(df2.chid))\n",
    "print(len(no_data))\n",
    "\n",
    "for id_ in no_data:\n",
    "    df2 = df2.append(pd.DataFrame({'chid':[id_], 'txn_amt':[0], 'txn_cnt':[0]}))\n",
    "    \n",
    "df2 = df2.sort_values(by=['chid'])"
   ]
  },
  {
   "cell_type": "code",
   "execution_count": 50,
   "metadata": {},
   "outputs": [
    {
     "data": {
      "text/plain": [
       "(500000, 3)"
      ]
     },
     "execution_count": 50,
     "metadata": {},
     "output_type": "execute_result"
    }
   ],
   "source": [
    "df2.shape"
   ]
  },
  {
   "cell_type": "code",
   "execution_count": 54,
   "metadata": {
    "scrolled": true
   },
   "outputs": [],
   "source": [
    "from sklearn.cluster import KMeans\n",
    "cluster = 50\n",
    "kmeans = KMeans(n_clusters=cluster, random_state=0).fit(df2)\n",
    "label = kmeans.labels_"
   ]
  },
  {
   "cell_type": "code",
   "execution_count": 55,
   "metadata": {},
   "outputs": [],
   "source": [
    "df2['label'] = label\n",
    "df2.to_pickle(\"./訓練資料集/label_2.pkl\")"
   ]
  },
  {
   "cell_type": "code",
   "execution_count": 56,
   "metadata": {},
   "outputs": [
    {
     "data": {
      "text/html": [
       "<div>\n",
       "<style scoped>\n",
       "    .dataframe tbody tr th:only-of-type {\n",
       "        vertical-align: middle;\n",
       "    }\n",
       "\n",
       "    .dataframe tbody tr th {\n",
       "        vertical-align: top;\n",
       "    }\n",
       "\n",
       "    .dataframe thead th {\n",
       "        text-align: right;\n",
       "    }\n",
       "</style>\n",
       "<table border=\"1\" class=\"dataframe\">\n",
       "  <thead>\n",
       "    <tr style=\"text-align: right;\">\n",
       "      <th></th>\n",
       "      <th>chid</th>\n",
       "      <th>txn_amt</th>\n",
       "      <th>txn_cnt</th>\n",
       "      <th>label</th>\n",
       "    </tr>\n",
       "  </thead>\n",
       "  <tbody>\n",
       "    <tr>\n",
       "      <th>0</th>\n",
       "      <td>10000000</td>\n",
       "      <td>131047.220026</td>\n",
       "      <td>28.0</td>\n",
       "      <td>19</td>\n",
       "    </tr>\n",
       "    <tr>\n",
       "      <th>1</th>\n",
       "      <td>10000001</td>\n",
       "      <td>258690.163717</td>\n",
       "      <td>66.0</td>\n",
       "      <td>48</td>\n",
       "    </tr>\n",
       "    <tr>\n",
       "      <th>2</th>\n",
       "      <td>10000002</td>\n",
       "      <td>9264.018807</td>\n",
       "      <td>2.0</td>\n",
       "      <td>36</td>\n",
       "    </tr>\n",
       "  </tbody>\n",
       "</table>\n",
       "</div>"
      ],
      "text/plain": [
       "       chid        txn_amt  txn_cnt  label\n",
       "0  10000000  131047.220026     28.0     19\n",
       "1  10000001  258690.163717     66.0     48\n",
       "2  10000002    9264.018807      2.0     36"
      ]
     },
     "execution_count": 56,
     "metadata": {},
     "output_type": "execute_result"
    }
   ],
   "source": [
    "df2.head(3)"
   ]
  },
  {
   "cell_type": "code",
   "execution_count": 59,
   "metadata": {
    "scrolled": true
   },
   "outputs": [],
   "source": [
    "id_in_which_label = {}\n",
    "for i in range(cluster):\n",
    "    df3 = df2[df2['label']==i]\n",
    "    id_in_which_label[i] = list(df3.chid)"
   ]
  },
  {
   "cell_type": "code",
   "execution_count": 63,
   "metadata": {},
   "outputs": [],
   "source": [
    "label_dict = {}\n",
    "for i in range(cluster):\n",
    "    df3 = df[df['chid'].isin(id_in_which_label[i])]\n",
    "    df3 = df3.groupby(by=['shop_tag']).sum().reset_index()\n",
    "\n",
    "    a = sorted([(cnt, tag) for tag, cnt in zip(df3.shop_tag, df3.txn_cnt)], reverse=True)\n",
    "    \n",
    "    label_dict[i] = [tag for cnt, tag in a[:5]]"
   ]
  },
  {
   "cell_type": "code",
   "execution_count": 64,
   "metadata": {},
   "outputs": [
    {
     "data": {
      "text/plain": [
       "50"
      ]
     },
     "execution_count": 64,
     "metadata": {},
     "output_type": "execute_result"
    }
   ],
   "source": [
    "len(label_dict)"
   ]
  },
  {
   "cell_type": "markdown",
   "metadata": {},
   "source": [
    "# 算上時間權重"
   ]
  },
  {
   "cell_type": "code",
   "execution_count": 72,
   "metadata": {
    "scrolled": true
   },
   "outputs": [
    {
     "name": "stderr",
     "output_type": "stream",
     "text": [
      "C:\\Users\\Rou_yi\\AppData\\Local\\Temp/ipykernel_21344/3900630154.py:2: SettingWithCopyWarning: \n",
      "A value is trying to be set on a copy of a slice from a DataFrame.\n",
      "Try using .loc[row_indexer,col_indexer] = value instead\n",
      "\n",
      "See the caveats in the documentation: https://pandas.pydata.org/pandas-docs/stable/user_guide/indexing.html#returning-a-view-versus-a-copy\n",
      "  df3[\"dt_x_txn_amt\"] = df3['dt'] * df3['txn_amt']\n"
     ]
    }
   ],
   "source": [
    "df3 = df[['chid', 'shop_tag', 'dt', 'txn_amt']]\n",
    "df3[\"dt_x_txn_amt\"] = df3['dt'] * df3['txn_amt']\n",
    "df3 = df3.drop(columns=['dt', 'txn_amt']).groupby(by=['chid', 'shop_tag']).sum().sort_values(by=['chid', 'dt_x_txn_amt'])"
   ]
  },
  {
   "cell_type": "code",
   "execution_count": 74,
   "metadata": {},
   "outputs": [],
   "source": [
    "df3 = df3.reset_index()"
   ]
  },
  {
   "cell_type": "code",
   "execution_count": 75,
   "metadata": {},
   "outputs": [
    {
     "data": {
      "text/html": [
       "<div>\n",
       "<style scoped>\n",
       "    .dataframe tbody tr th:only-of-type {\n",
       "        vertical-align: middle;\n",
       "    }\n",
       "\n",
       "    .dataframe tbody tr th {\n",
       "        vertical-align: top;\n",
       "    }\n",
       "\n",
       "    .dataframe thead th {\n",
       "        text-align: right;\n",
       "    }\n",
       "</style>\n",
       "<table border=\"1\" class=\"dataframe\">\n",
       "  <thead>\n",
       "    <tr style=\"text-align: right;\">\n",
       "      <th></th>\n",
       "      <th>chid</th>\n",
       "      <th>shop_tag</th>\n",
       "      <th>dt_x_txn_amt</th>\n",
       "    </tr>\n",
       "  </thead>\n",
       "  <tbody>\n",
       "    <tr>\n",
       "      <th>0</th>\n",
       "      <td>10000000</td>\n",
       "      <td>48</td>\n",
       "      <td>2.197461e+05</td>\n",
       "    </tr>\n",
       "    <tr>\n",
       "      <th>1</th>\n",
       "      <td>10000000</td>\n",
       "      <td>12</td>\n",
       "      <td>5.593065e+05</td>\n",
       "    </tr>\n",
       "    <tr>\n",
       "      <th>2</th>\n",
       "      <td>10000000</td>\n",
       "      <td>10</td>\n",
       "      <td>1.539215e+06</td>\n",
       "    </tr>\n",
       "    <tr>\n",
       "      <th>3</th>\n",
       "      <td>10000001</td>\n",
       "      <td>22</td>\n",
       "      <td>8.680454e+04</td>\n",
       "    </tr>\n",
       "    <tr>\n",
       "      <th>4</th>\n",
       "      <td>10000001</td>\n",
       "      <td>36</td>\n",
       "      <td>1.228687e+05</td>\n",
       "    </tr>\n",
       "  </tbody>\n",
       "</table>\n",
       "</div>"
      ],
      "text/plain": [
       "       chid  shop_tag  dt_x_txn_amt\n",
       "0  10000000        48  2.197461e+05\n",
       "1  10000000        12  5.593065e+05\n",
       "2  10000000        10  1.539215e+06\n",
       "3  10000001        22  8.680454e+04\n",
       "4  10000001        36  1.228687e+05"
      ]
     },
     "execution_count": 75,
     "metadata": {},
     "output_type": "execute_result"
    }
   ],
   "source": [
    "df3.head()"
   ]
  },
  {
   "cell_type": "markdown",
   "metadata": {},
   "source": [
    "# 抓取 tag"
   ]
  },
  {
   "cell_type": "code",
   "execution_count": 80,
   "metadata": {},
   "outputs": [],
   "source": [
    "chid_ls = np.array(df3.chid)\n",
    "shop_tag_ls = np.array(df3.shop_tag)\n",
    "txn_amt_ls = np.array(df3.dt_x_txn_amt)"
   ]
  },
  {
   "cell_type": "code",
   "execution_count": 88,
   "metadata": {},
   "outputs": [
    {
     "name": "stderr",
     "output_type": "stream",
     "text": [
      "100%|█████████████████████████████████████████████████████████████████████████| 500000/500000 [59:34<00:00, 139.88it/s]\n"
     ]
    }
   ],
   "source": [
    "all_ls = []\n",
    "for i in trange(500000):\n",
    "    id_ = (10000000+i)\n",
    "    if id_ in chid_ls:\n",
    "        loc = np.where(chid_ls==id_)[0]\n",
    "        if len(loc) == 3:\n",
    "            all_ls.append([id_] + list(shop_tag_ls[loc]))\n",
    "            \n",
    "        elif len(loc) < 3:\n",
    "            current_tag_ls = list(shop_tag_ls[loc])\n",
    "            current_tag_ls.reverse()\n",
    "            tag_list = label_dict[label[i]]\n",
    "            for k in range(5):\n",
    "                another_tag = tag_list[k]\n",
    "                if another_tag not in current_tag_ls:\n",
    "                    current_tag_ls.append(another_tag)\n",
    "                if len(current_tag_ls) == 3:\n",
    "                    break\n",
    "            all_ls.append([id_] + current_tag_ls)\n",
    " \n",
    "\n",
    "        elif len(loc) > 3:\n",
    "            current_tag_ls = list(shop_tag_ls[loc])\n",
    "            current_tag_ls.reverse()\n",
    "            all_ls.append([id_] + current_tag_ls[:3])\n",
    "    else:\n",
    "        another_tag = label_dict[label[i]][:3]\n",
    "        all_ls.append([id_] + another_tag)"
   ]
  },
  {
   "cell_type": "code",
   "execution_count": 105,
   "metadata": {
    "scrolled": true
   },
   "outputs": [],
   "source": [
    "a = pd.DataFrame(all_ls, columns=['chid', 'top1', 'top2', 'top3'])\n",
    "base_csv = pd.read_csv(\"./需預測的顧客名單及提交檔案範例.csv\")[['chid']]\n",
    "a = base_csv.merge(a).astype('str')"
   ]
  },
  {
   "cell_type": "code",
   "execution_count": 108,
   "metadata": {},
   "outputs": [],
   "source": [
    "a.to_csv(\"./訓練資料集/model/1231/消費總金額計算(50群, 時間加權).csv\", index=False)"
   ]
  },
  {
   "cell_type": "markdown",
   "metadata": {},
   "source": [
    "【不使用模型】  \n",
    "\n",
    "取 dt = 21-24  \n",
    "加總各 ID 在各 tag 的總消費金額，並以此建立 top 3 tag  \n",
    "缺少的由上頁8群的前五 tag 結果下去填補  \n",
    "不在資料內的人使用 36, 37, 15 填補  \n",
    "耗時 : 48:09  //  分數 : 0.6376  \n",
    "\n",
    "取 dt = 13-24  \n",
    "以消費0元填補缺少的二千多個ID，並將50萬個ID下去分50群  \n",
    "加總各 ID 在各 tag 的(dt *總消費金額)，並以此建立 top 3 tag  \n",
    "缺少資料的ID，從他所在的群數曲前三名 tag 結果下去填補  \n",
    "耗時 : 59:34  //  分數 : 0.6640  \n",
    "\n",
    "下方往過去時間(1-13dt)尋找消失的4402人裡，其中2442人的資料  \n",
    "有消費類別與金額，再重新給予分群，從過往時間中抓取總消費前三作為top3，不足三使用分群tag填補  \n",
    "分數 : 0.6640  (完全沒改變，我比對過資料是有變化的)  \n",
    "使用過往資料無法改善分數。"
   ]
  },
  {
   "cell_type": "markdown",
   "metadata": {},
   "source": []
  },
  {
   "cell_type": "code",
   "execution_count": null,
   "metadata": {},
   "outputs": [],
   "source": [
    "path_1 = \"./訓練資料集/train_tag_filter.csv\"\n",
    "df = dd.read_csv(path_1, dtype={'shop_tag': 'object', 'chid': 'int'}, assume_missing=True).compute()\n",
    "# 選取 ID、時間、類別、金額、次數、性別、年齡、行業、職位\n",
    "df = df[['chid', 'dt', 'shop_tag', 'txn_amt', 'gender_code', 'age', 'trdtp']]\n",
    "df = df[df['chid'].isin(list(chid_ls))]"
   ]
  },
  {
   "cell_type": "code",
   "execution_count": null,
   "metadata": {},
   "outputs": [],
   "source": [
    "df = pd.DataFrame(df)\n",
    "df = df.sort_values(by=['chid', 'dt', 'txn_amt']).reset_index(drop=True)"
   ]
  },
  {
   "cell_type": "code",
   "execution_count": null,
   "metadata": {},
   "outputs": [],
   "source": [
    "df.chid.nunique()"
   ]
  },
  {
   "cell_type": "code",
   "execution_count": null,
   "metadata": {},
   "outputs": [],
   "source": [
    "df.shape"
   ]
  },
  {
   "cell_type": "code",
   "execution_count": null,
   "metadata": {},
   "outputs": [],
   "source": [
    "chid_ls_2 = df.chid.unique()"
   ]
  },
  {
   "cell_type": "code",
   "execution_count": null,
   "metadata": {},
   "outputs": [],
   "source": [
    "#sixteen_tag = [2, 6, 10, 12, 13, 15, 18, 19, 21, 22, 25, 26, 36, 37, 39, 48]\n",
    "collect = {}\n",
    "for id_ in list(chid_ls_2):\n",
    "    df2 = df[df['chid']==id_]\n",
    "    a = [list(df2.gender_code)[-1], list(df2.age)[-1], list(df2.trdtp)[-1]]\n",
    "    \n",
    "    df2 = df2[[\"dt\", 'shop_tag', 'txn_amt']].groupby(by=['shop_tag']).sum()\n",
    "    df2 = df2.reset_index().sort_values(by=[\"dt\", 'txn_amt'], ascending=False)\n",
    "    if len(df2.shop_tag) < 3:\n",
    "        collect[id_] = list(df2.shop_tag) + ['0']*(3-len(df2.shop_tag)) + [df2.txn_amt.sum()] + a \n",
    "    if len(df2.shop_tag) >= 3:\n",
    "        collect[id_] = list(df2.shop_tag)[:3] + [df2.txn_amt.sum()] + a"
   ]
  },
  {
   "cell_type": "code",
   "execution_count": null,
   "metadata": {},
   "outputs": [],
   "source": [
    "len(collect)"
   ]
  },
  {
   "cell_type": "code",
   "execution_count": null,
   "metadata": {},
   "outputs": [],
   "source": [
    "df2 = pd.DataFrame(collect).transpose().reset_index()\n",
    "df2.columns = ['chid', 'top1', 'top2', 'top3', 'txn_amt', 'gender_code', 'age', 'trdtp']\n",
    "df2.head(3)"
   ]
  },
  {
   "cell_type": "code",
   "execution_count": null,
   "metadata": {},
   "outputs": [],
   "source": [
    "#df2.to_csv(\"./訓練資料集/model/0103/不見的ID前三類別.csv\")"
   ]
  },
  {
   "cell_type": "code",
   "execution_count": null,
   "metadata": {},
   "outputs": [],
   "source": [
    "df = dd.read_parquet(\"./訓練資料集/Cut_for_13dt_24dt\").compute()\n",
    "df = df[['chid', 'txn_amt']]\n",
    "df = df.groupby(by=['chid']).sum()\n",
    "df = df.reset_index()"
   ]
  },
  {
   "cell_type": "code",
   "execution_count": null,
   "metadata": {},
   "outputs": [],
   "source": [
    "no_data = list(set(range(10000000, 10500000)) - set(df.chid))\n",
    "print(len(no_data))\n",
    "id_ls = df2.chid\n",
    "for id_ in no_data:\n",
    "    if id_ in id_ls:\n",
    "        df = df.append(pd.DataFrame({'chid':[id_], 'txn_amt':list(df2[df2.chid==id_].txn_amt)}))\n",
    "    else:\n",
    "        df = df.append(pd.DataFrame({'chid':[id_], 'txn_amt':[0]}))\n",
    "df = df.sort_values(by=['chid'])"
   ]
  },
  {
   "cell_type": "code",
   "execution_count": null,
   "metadata": {},
   "outputs": [],
   "source": [
    "from sklearn.cluster import KMeans\n",
    "cluster = 50\n",
    "kmeans = KMeans(n_clusters=cluster, random_state=0).fit(df)\n",
    "label = kmeans.labels_"
   ]
  },
  {
   "cell_type": "code",
   "execution_count": null,
   "metadata": {},
   "outputs": [],
   "source": [
    "df['label'] = label\n",
    "df.to_pickle(\"./訓練資料集/label_3.pkl\")"
   ]
  },
  {
   "cell_type": "code",
   "execution_count": null,
   "metadata": {},
   "outputs": [],
   "source": [
    "id_in_which_label = {}\n",
    "for i in range(cluster):\n",
    "    df3 = df[df['label']==i]\n",
    "    id_in_which_label[i] = list(df3.chid)"
   ]
  },
  {
   "cell_type": "code",
   "execution_count": null,
   "metadata": {},
   "outputs": [],
   "source": [
    "#df2 = dd.read_parquet(\"./訓練資料集/Cut_for_13dt_24dt\").compute()\n",
    "label_dict = {}\n",
    "for i in range(cluster):\n",
    "    df3 = df2[df2['chid'].isin(id_in_which_label[i])]\n",
    "    df3 = df3.groupby(by=['shop_tag']).sum().reset_index()\n",
    "\n",
    "    a = sorted([(cnt, tag) for tag, cnt in zip(df3.shop_tag, df3.txn_cnt)], reverse=True)\n",
    "    \n",
    "    label_dict[i] = [tag for cnt, tag in a[:5]]"
   ]
  },
  {
   "cell_type": "code",
   "execution_count": null,
   "metadata": {},
   "outputs": [],
   "source": [
    "df3 = pd.read_csv(\"./訓練資料集/model/0103/不見的ID前三類別.csv\")\n",
    "df3 = df3[['chid', 'top1', 'top2', 'top3']]\n",
    "df3.head(3)"
   ]
  },
  {
   "cell_type": "code",
   "execution_count": null,
   "metadata": {},
   "outputs": [],
   "source": [
    "df4 = pd.read_csv(\"./訓練資料集/model/1231/消費總金額計算(50群, 時間加權).csv\")\n",
    "df4.head(3)"
   ]
  },
  {
   "cell_type": "code",
   "execution_count": null,
   "metadata": {},
   "outputs": [],
   "source": [
    "for id_ in list(df3.chid)[:2]:\n",
    "    current_tag_ls = list(df3[df3.chid == id_][['top1', 'top2', 'top3']].values[0])\n",
    "\n",
    "    if 0 in current_tag_ls:\n",
    "        tag_list = label_dict[label[(id_-10000000)]].copy()\n",
    "        if current_tag_ls[0] == 0:\n",
    "            current_tag_ls = tag_list[:3]\n",
    "            \n",
    "        elif  current_tag_ls[1] == 0:\n",
    "            if current_tag_ls[0] in tag_list:\n",
    "                tag_list.remove(current_tag_ls[0])\n",
    "            current_tag_ls[1:] = tag_list[:2]\n",
    "            \n",
    "        else:\n",
    "            if current_tag_ls[0] in tag_list:\n",
    "                tag_list.remove(current_tag_ls[0])\n",
    "            if current_tag_ls[1] in tag_list:\n",
    "                tag_list.remove(current_tag_ls[1])\n",
    "            current_tag_ls[2] = tag_list[0]\n",
    "\n",
    "    df4.loc[np.where(df4.chid == id_)[0], :] = [id_] + current_tag_ls"
   ]
  },
  {
   "cell_type": "code",
   "execution_count": null,
   "metadata": {},
   "outputs": [],
   "source": [
    "df4.to_csv(\"./訓練資料集/model/0103/從過往時間修正一些ID的類別.csv\", index=False)"
   ]
  },
  {
   "cell_type": "code",
   "execution_count": null,
   "metadata": {},
   "outputs": [],
   "source": []
  }
 ],
 "metadata": {
  "kernelspec": {
   "display_name": "Python 3",
   "language": "python",
   "name": "python3"
  },
  "language_info": {
   "codemirror_mode": {
    "name": "ipython",
    "version": 3
   },
   "file_extension": ".py",
   "mimetype": "text/x-python",
   "name": "python",
   "nbconvert_exporter": "python",
   "pygments_lexer": "ipython3",
   "version": "3.6.8"
  },
  "toc": {
   "base_numbering": 1,
   "nav_menu": {},
   "number_sections": true,
   "sideBar": true,
   "skip_h1_title": false,
   "title_cell": "Table of Contents",
   "title_sidebar": "Contents",
   "toc_cell": false,
   "toc_position": {},
   "toc_section_display": true,
   "toc_window_display": false
  }
 },
 "nbformat": 4,
 "nbformat_minor": 5
}
